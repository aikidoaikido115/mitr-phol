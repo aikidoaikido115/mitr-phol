{
 "cells": [
  {
   "cell_type": "code",
   "execution_count": 1,
   "id": "7eccb7f3",
   "metadata": {
    "_cell_guid": "b1076dfc-b9ad-4769-8c92-a6c4dae69d19",
    "_uuid": "8f2839f25d086af736a60e9eeb907d3b93b6e0e5",
    "execution": {
     "iopub.execute_input": "2024-08-18T12:54:40.544142Z",
     "iopub.status.busy": "2024-08-18T12:54:40.543749Z",
     "iopub.status.idle": "2024-08-18T12:54:41.561853Z",
     "shell.execute_reply": "2024-08-18T12:54:41.560599Z"
    },
    "papermill": {
     "duration": 1.03728,
     "end_time": "2024-08-18T12:54:41.564803",
     "exception": false,
     "start_time": "2024-08-18T12:54:40.527523",
     "status": "completed"
    },
    "tags": []
   },
   "outputs": [
    {
     "name": "stdout",
     "output_type": "stream",
     "text": [
      "/kaggle/input/mitrphol-ai-hackathon/data_collection.csv\n",
      "/kaggle/input/mitrphol-ai-hackathon/sandbox_submission.csv\n"
     ]
    }
   ],
   "source": [
    "# This Python 3 environment comes with many helpful analytics libraries installed\n",
    "# It is defined by the kaggle/python Docker image: https://github.com/kaggle/docker-python\n",
    "# For example, here's several helpful packages to load\n",
    "\n",
    "import numpy as np # linear algebra\n",
    "import pandas as pd # data processing, CSV file I/O (e.g. pd.read_csv)\n",
    "\n",
    "# Input data files are available in the read-only \"../input/\" directory\n",
    "# For example, running this (by clicking run or pressing Shift+Enter) will list all files under the input directory\n",
    "\n",
    "import os\n",
    "for dirname, _, filenames in os.walk('/kaggle/input'):\n",
    "    for filename in filenames:\n",
    "        print(os.path.join(dirname, filename))\n",
    "\n",
    "# You can write up to 20GB to the current directory (/kaggle/working/) that gets preserved as output when you create a version using \"Save & Run All\" \n",
    "# You can also write temporary files to /kaggle/temp/, but they won't be saved outside of the current session"
   ]
  },
  {
   "cell_type": "code",
   "execution_count": 2,
   "id": "02ca75e1",
   "metadata": {
    "execution": {
     "iopub.execute_input": "2024-08-18T12:54:41.595652Z",
     "iopub.status.busy": "2024-08-18T12:54:41.595091Z",
     "iopub.status.idle": "2024-08-18T12:54:43.094443Z",
     "shell.execute_reply": "2024-08-18T12:54:43.093064Z"
    },
    "papermill": {
     "duration": 1.518302,
     "end_time": "2024-08-18T12:54:43.097729",
     "exception": false,
     "start_time": "2024-08-18T12:54:41.579427",
     "status": "completed"
    },
    "tags": []
   },
   "outputs": [],
   "source": [
    "import pandas as pd\n",
    "import numpy as np\n",
    "import seaborn as sb\n",
    "import matplotlib.pyplot as plt"
   ]
  },
  {
   "cell_type": "code",
   "execution_count": 3,
   "id": "55c28115",
   "metadata": {
    "execution": {
     "iopub.execute_input": "2024-08-18T12:54:43.129558Z",
     "iopub.status.busy": "2024-08-18T12:54:43.129132Z",
     "iopub.status.idle": "2024-08-18T12:54:43.265069Z",
     "shell.execute_reply": "2024-08-18T12:54:43.263905Z"
    },
    "papermill": {
     "duration": 0.15435,
     "end_time": "2024-08-18T12:54:43.268037",
     "exception": false,
     "start_time": "2024-08-18T12:54:43.113687",
     "status": "completed"
    },
    "tags": []
   },
   "outputs": [
    {
     "data": {
      "text/html": [
       "<div>\n",
       "<style scoped>\n",
       "    .dataframe tbody tr th:only-of-type {\n",
       "        vertical-align: middle;\n",
       "    }\n",
       "\n",
       "    .dataframe tbody tr th {\n",
       "        vertical-align: top;\n",
       "    }\n",
       "\n",
       "    .dataframe thead th {\n",
       "        text-align: right;\n",
       "    }\n",
       "</style>\n",
       "<table border=\"1\" class=\"dataframe\">\n",
       "  <thead>\n",
       "    <tr style=\"text-align: right;\">\n",
       "      <th></th>\n",
       "      <th>ID</th>\n",
       "      <th>column_1</th>\n",
       "      <th>column_2</th>\n",
       "      <th>column_3</th>\n",
       "      <th>column_4</th>\n",
       "      <th>column_5</th>\n",
       "      <th>column_6</th>\n",
       "      <th>column_7</th>\n",
       "      <th>column_8</th>\n",
       "      <th>column_9</th>\n",
       "      <th>...</th>\n",
       "      <th>column_32</th>\n",
       "      <th>column_33</th>\n",
       "      <th>column_34</th>\n",
       "      <th>column_35</th>\n",
       "      <th>column_36</th>\n",
       "      <th>column_37</th>\n",
       "      <th>column_38</th>\n",
       "      <th>column_39</th>\n",
       "      <th>column_40</th>\n",
       "      <th>sugar_price</th>\n",
       "    </tr>\n",
       "  </thead>\n",
       "  <tbody>\n",
       "    <tr>\n",
       "      <th>2152</th>\n",
       "      <td>2153</td>\n",
       "      <td>13.457139</td>\n",
       "      <td>38.777234</td>\n",
       "      <td>13.491244</td>\n",
       "      <td>14.058644</td>\n",
       "      <td>0.012069</td>\n",
       "      <td>0.204383</td>\n",
       "      <td>1,678.2000</td>\n",
       "      <td>14.112959</td>\n",
       "      <td>14.860913</td>\n",
       "      <td>...</td>\n",
       "      <td>13.183441</td>\n",
       "      <td>13.923152</td>\n",
       "      <td>10.220030</td>\n",
       "      <td>15.033625</td>\n",
       "      <td>13.802666</td>\n",
       "      <td>14.124508</td>\n",
       "      <td>-15.121759</td>\n",
       "      <td>20.114440</td>\n",
       "      <td>21.159722</td>\n",
       "      <td>9.065992</td>\n",
       "    </tr>\n",
       "    <tr>\n",
       "      <th>2153</th>\n",
       "      <td>2154</td>\n",
       "      <td>13.567556</td>\n",
       "      <td>38.948566</td>\n",
       "      <td>13.601942</td>\n",
       "      <td>14.173997</td>\n",
       "      <td>0.012069</td>\n",
       "      <td>0.204383</td>\n",
       "      <td>1,728.7000</td>\n",
       "      <td>14.228758</td>\n",
       "      <td>14.982849</td>\n",
       "      <td>...</td>\n",
       "      <td>13.291613</td>\n",
       "      <td>14.037393</td>\n",
       "      <td>10.303887</td>\n",
       "      <td>15.156977</td>\n",
       "      <td>13.915918</td>\n",
       "      <td>14.240401</td>\n",
       "      <td>-15.271813</td>\n",
       "      <td>20.161009</td>\n",
       "      <td>21.197805</td>\n",
       "      <td>9.054294</td>\n",
       "    </tr>\n",
       "    <tr>\n",
       "      <th>2154</th>\n",
       "      <td>2155</td>\n",
       "      <td>13.581359</td>\n",
       "      <td>38.969983</td>\n",
       "      <td>13.615779</td>\n",
       "      <td>14.188416</td>\n",
       "      <td>0.012069</td>\n",
       "      <td>0.204383</td>\n",
       "      <td>1,733.3000</td>\n",
       "      <td>14.243233</td>\n",
       "      <td>14.998091</td>\n",
       "      <td>...</td>\n",
       "      <td>13.305135</td>\n",
       "      <td>14.051674</td>\n",
       "      <td>10.314369</td>\n",
       "      <td>15.172397</td>\n",
       "      <td>13.930075</td>\n",
       "      <td>14.254888</td>\n",
       "      <td>-15.290570</td>\n",
       "      <td>20.166831</td>\n",
       "      <td>21.202565</td>\n",
       "      <td>9.006740</td>\n",
       "    </tr>\n",
       "    <tr>\n",
       "      <th>2155</th>\n",
       "      <td>2156</td>\n",
       "      <td>13.429534</td>\n",
       "      <td>38.734400</td>\n",
       "      <td>13.463569</td>\n",
       "      <td>14.029805</td>\n",
       "      <td>0.012069</td>\n",
       "      <td>0.204383</td>\n",
       "      <td>1,723.5000</td>\n",
       "      <td>14.084009</td>\n",
       "      <td>14.830429</td>\n",
       "      <td>...</td>\n",
       "      <td>13.156397</td>\n",
       "      <td>13.894591</td>\n",
       "      <td>10.199066</td>\n",
       "      <td>15.002786</td>\n",
       "      <td>13.774352</td>\n",
       "      <td>14.095534</td>\n",
       "      <td>-15.084245</td>\n",
       "      <td>20.102797</td>\n",
       "      <td>21.150201</td>\n",
       "      <td>9.079074</td>\n",
       "    </tr>\n",
       "    <tr>\n",
       "      <th>2156</th>\n",
       "      <td>2157</td>\n",
       "      <td>12.711820</td>\n",
       "      <td>37.620738</td>\n",
       "      <td>12.744037</td>\n",
       "      <td>13.280011</td>\n",
       "      <td>0.012069</td>\n",
       "      <td>0.204383</td>\n",
       "      <td>1,711.9000</td>\n",
       "      <td>13.331319</td>\n",
       "      <td>14.037847</td>\n",
       "      <td>...</td>\n",
       "      <td>12.453281</td>\n",
       "      <td>13.152024</td>\n",
       "      <td>9.653998</td>\n",
       "      <td>14.200993</td>\n",
       "      <td>13.038210</td>\n",
       "      <td>13.342227</td>\n",
       "      <td>-14.108894</td>\n",
       "      <td>19.800093</td>\n",
       "      <td>20.902659</td>\n",
       "      <td>9.079076</td>\n",
       "    </tr>\n",
       "    <tr>\n",
       "      <th>...</th>\n",
       "      <td>...</td>\n",
       "      <td>...</td>\n",
       "      <td>...</td>\n",
       "      <td>...</td>\n",
       "      <td>...</td>\n",
       "      <td>...</td>\n",
       "      <td>...</td>\n",
       "      <td>...</td>\n",
       "      <td>...</td>\n",
       "      <td>...</td>\n",
       "      <td>...</td>\n",
       "      <td>...</td>\n",
       "      <td>...</td>\n",
       "      <td>...</td>\n",
       "      <td>...</td>\n",
       "      <td>...</td>\n",
       "      <td>...</td>\n",
       "      <td>...</td>\n",
       "      <td>...</td>\n",
       "      <td>...</td>\n",
       "      <td>...</td>\n",
       "    </tr>\n",
       "    <tr>\n",
       "      <th>2647</th>\n",
       "      <td>2648</td>\n",
       "      <td>27.038497</td>\n",
       "      <td>59.851153</td>\n",
       "      <td>27.107023</td>\n",
       "      <td>28.247060</td>\n",
       "      <td>0.012069</td>\n",
       "      <td>0.204383</td>\n",
       "      <td>1,918.4000</td>\n",
       "      <td>28.356193</td>\n",
       "      <td>29.859004</td>\n",
       "      <td>...</td>\n",
       "      <td>26.488576</td>\n",
       "      <td>27.974825</td>\n",
       "      <td>20.534400</td>\n",
       "      <td>30.206021</td>\n",
       "      <td>27.732741</td>\n",
       "      <td>28.379396</td>\n",
       "      <td>-33.578419</td>\n",
       "      <td>25.842528</td>\n",
       "      <td>25.843981</td>\n",
       "      <td>19.014557</td>\n",
       "    </tr>\n",
       "    <tr>\n",
       "      <th>2648</th>\n",
       "      <td>2649</td>\n",
       "      <td>27.383552</td>\n",
       "      <td>60.386568</td>\n",
       "      <td>27.452953</td>\n",
       "      <td>28.607538</td>\n",
       "      <td>0.012069</td>\n",
       "      <td>0.204383</td>\n",
       "      <td>1,933.8000</td>\n",
       "      <td>28.718063</td>\n",
       "      <td>30.240053</td>\n",
       "      <td>...</td>\n",
       "      <td>26.826613</td>\n",
       "      <td>28.331829</td>\n",
       "      <td>20.796452</td>\n",
       "      <td>30.591499</td>\n",
       "      <td>28.086655</td>\n",
       "      <td>28.741563</td>\n",
       "      <td>-34.047338</td>\n",
       "      <td>25.988059</td>\n",
       "      <td>25.962991</td>\n",
       "      <td>19.081052</td>\n",
       "    </tr>\n",
       "    <tr>\n",
       "      <th>2649</th>\n",
       "      <td>2650</td>\n",
       "      <td>28.170277</td>\n",
       "      <td>61.607312</td>\n",
       "      <td>28.241671</td>\n",
       "      <td>29.429428</td>\n",
       "      <td>0.012069</td>\n",
       "      <td>0.204383</td>\n",
       "      <td>1,941.6000</td>\n",
       "      <td>29.543128</td>\n",
       "      <td>31.108845</td>\n",
       "      <td>...</td>\n",
       "      <td>27.597336</td>\n",
       "      <td>29.145798</td>\n",
       "      <td>21.393930</td>\n",
       "      <td>31.470387</td>\n",
       "      <td>28.893580</td>\n",
       "      <td>29.567303</td>\n",
       "      <td>-35.116473</td>\n",
       "      <td>26.319868</td>\n",
       "      <td>26.234335</td>\n",
       "      <td>20.064202</td>\n",
       "    </tr>\n",
       "    <tr>\n",
       "      <th>2650</th>\n",
       "      <td>2651</td>\n",
       "      <td>28.032254</td>\n",
       "      <td>61.393146</td>\n",
       "      <td>28.103299</td>\n",
       "      <td>29.285236</td>\n",
       "      <td>0.012069</td>\n",
       "      <td>0.204383</td>\n",
       "      <td>1,944.3000</td>\n",
       "      <td>29.398379</td>\n",
       "      <td>30.956425</td>\n",
       "      <td>...</td>\n",
       "      <td>27.462121</td>\n",
       "      <td>29.002996</td>\n",
       "      <td>21.289109</td>\n",
       "      <td>31.316196</td>\n",
       "      <td>28.752013</td>\n",
       "      <td>29.422435</td>\n",
       "      <td>-34.928905</td>\n",
       "      <td>26.261656</td>\n",
       "      <td>26.186731</td>\n",
       "      <td>20.084427</td>\n",
       "    </tr>\n",
       "    <tr>\n",
       "      <th>2651</th>\n",
       "      <td>2652</td>\n",
       "      <td>27.908034</td>\n",
       "      <td>61.200396</td>\n",
       "      <td>27.978764</td>\n",
       "      <td>29.155463</td>\n",
       "      <td>0.012069</td>\n",
       "      <td>0.204383</td>\n",
       "      <td>1,972.1000</td>\n",
       "      <td>29.268106</td>\n",
       "      <td>30.819247</td>\n",
       "      <td>...</td>\n",
       "      <td>27.340428</td>\n",
       "      <td>28.874474</td>\n",
       "      <td>21.194770</td>\n",
       "      <td>31.177423</td>\n",
       "      <td>28.624604</td>\n",
       "      <td>29.292055</td>\n",
       "      <td>-34.760094</td>\n",
       "      <td>26.209265</td>\n",
       "      <td>26.143887</td>\n",
       "      <td>20.054693</td>\n",
       "    </tr>\n",
       "  </tbody>\n",
       "</table>\n",
       "<p>500 rows × 42 columns</p>\n",
       "</div>"
      ],
      "text/plain": [
       "        ID   column_1   column_2    column_3   column_4  column_5  column_6  \\\n",
       "2152  2153  13.457139   38.777234  13.491244  14.058644  0.012069  0.204383   \n",
       "2153  2154  13.567556   38.948566  13.601942  14.173997  0.012069  0.204383   \n",
       "2154  2155  13.581359   38.969983  13.615779  14.188416  0.012069  0.204383   \n",
       "2155  2156  13.429534   38.734400  13.463569  14.029805  0.012069  0.204383   \n",
       "2156  2157  12.711820   37.620738  12.744037  13.280011  0.012069  0.204383   \n",
       "...    ...        ...         ...        ...        ...       ...       ...   \n",
       "2647  2648  27.038497   59.851153  27.107023  28.247060  0.012069  0.204383   \n",
       "2648  2649  27.383552   60.386568  27.452953  28.607538  0.012069  0.204383   \n",
       "2649  2650  28.170277   61.607312  28.241671  29.429428  0.012069  0.204383   \n",
       "2650  2651  28.032254   61.393146  28.103299  29.285236  0.012069  0.204383   \n",
       "2651  2652  27.908034   61.200396  27.978764  29.155463  0.012069  0.204383   \n",
       "\n",
       "          column_7   column_8   column_9  ...  column_32  column_33  \\\n",
       "2152   1,678.2000   14.112959  14.860913  ...  13.183441  13.923152   \n",
       "2153   1,728.7000   14.228758  14.982849  ...  13.291613  14.037393   \n",
       "2154   1,733.3000   14.243233  14.998091  ...  13.305135  14.051674   \n",
       "2155   1,723.5000   14.084009  14.830429  ...  13.156397  13.894591   \n",
       "2156   1,711.9000   13.331319  14.037847  ...  12.453281  13.152024   \n",
       "...            ...        ...        ...  ...        ...        ...   \n",
       "2647   1,918.4000   28.356193  29.859004  ...  26.488576  27.974825   \n",
       "2648   1,933.8000   28.718063  30.240053  ...  26.826613  28.331829   \n",
       "2649   1,941.6000   29.543128  31.108845  ...  27.597336  29.145798   \n",
       "2650   1,944.3000   29.398379  30.956425  ...  27.462121  29.002996   \n",
       "2651   1,972.1000   29.268106  30.819247  ...  27.340428  28.874474   \n",
       "\n",
       "      column_34  column_35  column_36  column_37  column_38  column_39  \\\n",
       "2152  10.220030  15.033625  13.802666  14.124508 -15.121759  20.114440   \n",
       "2153  10.303887  15.156977  13.915918  14.240401 -15.271813  20.161009   \n",
       "2154  10.314369  15.172397  13.930075  14.254888 -15.290570  20.166831   \n",
       "2155  10.199066  15.002786  13.774352  14.095534 -15.084245  20.102797   \n",
       "2156   9.653998  14.200993  13.038210  13.342227 -14.108894  19.800093   \n",
       "...         ...        ...        ...        ...        ...        ...   \n",
       "2647  20.534400  30.206021  27.732741  28.379396 -33.578419  25.842528   \n",
       "2648  20.796452  30.591499  28.086655  28.741563 -34.047338  25.988059   \n",
       "2649  21.393930  31.470387  28.893580  29.567303 -35.116473  26.319868   \n",
       "2650  21.289109  31.316196  28.752013  29.422435 -34.928905  26.261656   \n",
       "2651  21.194770  31.177423  28.624604  29.292055 -34.760094  26.209265   \n",
       "\n",
       "      column_40  sugar_price  \n",
       "2152  21.159722     9.065992  \n",
       "2153  21.197805     9.054294  \n",
       "2154  21.202565     9.006740  \n",
       "2155  21.150201     9.079074  \n",
       "2156  20.902659     9.079076  \n",
       "...         ...          ...  \n",
       "2647  25.843981    19.014557  \n",
       "2648  25.962991    19.081052  \n",
       "2649  26.234335    20.064202  \n",
       "2650  26.186731    20.084427  \n",
       "2651  26.143887    20.054693  \n",
       "\n",
       "[500 rows x 42 columns]"
      ]
     },
     "execution_count": 3,
     "metadata": {},
     "output_type": "execute_result"
    }
   ],
   "source": [
    "train_data = pd.read_csv('/kaggle/input/mitrphol-ai-hackathon/data_collection.csv')\n",
    "\n",
    "# train_data.tail(500)['column_31']\n",
    "train_data.tail(500)\n",
    "# train_data"
   ]
  },
  {
   "cell_type": "code",
   "execution_count": 4,
   "id": "5e856ea8",
   "metadata": {
    "execution": {
     "iopub.execute_input": "2024-08-18T12:54:43.299472Z",
     "iopub.status.busy": "2024-08-18T12:54:43.299063Z",
     "iopub.status.idle": "2024-08-18T12:54:43.307862Z",
     "shell.execute_reply": "2024-08-18T12:54:43.306355Z"
    },
    "papermill": {
     "duration": 0.027787,
     "end_time": "2024-08-18T12:54:43.310524",
     "exception": false,
     "start_time": "2024-08-18T12:54:43.282737",
     "status": "completed"
    },
    "tags": []
   },
   "outputs": [
    {
     "data": {
      "text/plain": [
       "['ID',\n",
       " 'column_1',\n",
       " ' column_2 ',\n",
       " 'column_3',\n",
       " 'column_4',\n",
       " 'column_5',\n",
       " 'column_6',\n",
       " 'column_7',\n",
       " 'column_8',\n",
       " 'column_9',\n",
       " 'column_10',\n",
       " 'column_11',\n",
       " 'column_12',\n",
       " 'column_13',\n",
       " 'column_14',\n",
       " 'column_15',\n",
       " 'column_16',\n",
       " 'column_17',\n",
       " 'column_18',\n",
       " 'column_19',\n",
       " 'column_20',\n",
       " 'column_21',\n",
       " 'column_22',\n",
       " 'column_23',\n",
       " 'column_24',\n",
       " 'column_25',\n",
       " 'column_26',\n",
       " 'column_27',\n",
       " 'column_28',\n",
       " 'column_29',\n",
       " 'column_30',\n",
       " 'column_31',\n",
       " 'column_32',\n",
       " 'column_33',\n",
       " 'column_34',\n",
       " 'column_35',\n",
       " 'column_36',\n",
       " 'column_37',\n",
       " 'column_38',\n",
       " 'column_39',\n",
       " 'column_40',\n",
       " 'sugar_price']"
      ]
     },
     "execution_count": 4,
     "metadata": {},
     "output_type": "execute_result"
    }
   ],
   "source": [
    "column_names = train_data.columns.tolist()\n",
    "# column_names.remove('ID')\n",
    "column_names"
   ]
  },
  {
   "cell_type": "code",
   "execution_count": 5,
   "id": "9d3b144c",
   "metadata": {
    "execution": {
     "iopub.execute_input": "2024-08-18T12:54:43.343081Z",
     "iopub.status.busy": "2024-08-18T12:54:43.342662Z",
     "iopub.status.idle": "2024-08-18T12:54:43.359567Z",
     "shell.execute_reply": "2024-08-18T12:54:43.358404Z"
    },
    "papermill": {
     "duration": 0.03557,
     "end_time": "2024-08-18T12:54:43.362095",
     "exception": false,
     "start_time": "2024-08-18T12:54:43.326525",
     "status": "completed"
    },
    "tags": []
   },
   "outputs": [
    {
     "data": {
      "text/plain": [
       "count          2652\n",
       "unique         2200\n",
       "top        44.6600 \n",
       "freq              6\n",
       "Name: column_29, dtype: object"
      ]
     },
     "execution_count": 5,
     "metadata": {},
     "output_type": "execute_result"
    }
   ],
   "source": [
    "#14 16 17 29\n",
    "# train_data['column_32'].describe()\n",
    "train_data['column_29'].describe()"
   ]
  },
  {
   "cell_type": "code",
   "execution_count": 6,
   "id": "3daac8cb",
   "metadata": {
    "execution": {
     "iopub.execute_input": "2024-08-18T12:54:43.394207Z",
     "iopub.status.busy": "2024-08-18T12:54:43.393799Z",
     "iopub.status.idle": "2024-08-18T12:54:43.408426Z",
     "shell.execute_reply": "2024-08-18T12:54:43.406966Z"
    },
    "papermill": {
     "duration": 0.034048,
     "end_time": "2024-08-18T12:54:43.411063",
     "exception": false,
     "start_time": "2024-08-18T12:54:43.377015",
     "status": "completed"
    },
    "tags": []
   },
   "outputs": [
    {
     "name": "stdout",
     "output_type": "stream",
     "text": [
      "object\n",
      "[' 1,650.6000 ' ' 1,616.3000 ' ' 1,615.5000 ' ... ' 1,941.6000 '\n",
      " ' 1,944.3000 ' ' 1,972.1000 ']\n",
      "\n",
      "object\n",
      "[' 1,635.0000 ' ' 1,628.0000 ' ' 1,608.0000 ' ... ' 1,596.5000 '\n",
      " ' 1,603.5000 ' ' 1,581.5000 ']\n",
      "\n",
      "object\n",
      "[' 658.2500 ' ' 638.7500 ' ' 654.2500 ' ... ' 1,051.5000 ' ' 1,081.2500 '\n",
      " ' 1,103.7500 ']\n",
      "\n",
      "object\n",
      "[' 658.250 ' ' 638.750 ' ' 654.250 ' ... ' 1,051.500 ' ' 1,081.250 '\n",
      " ' 1,103.750 ']\n",
      "\n",
      "object\n",
      "[' 84.4500 ' ' 81.2100 ' ' 82.1400 ' ... ' 96.2300 ' ' 98.2600 '\n",
      " ' 94.2900 ']\n"
     ]
    }
   ],
   "source": [
    "print(train_data['column_7'].dtype)\n",
    "print(train_data['column_7'].unique())\n",
    "print()\n",
    "print(train_data['column_14'].dtype)\n",
    "print(train_data['column_14'].unique())\n",
    "print()\n",
    "print(train_data['column_16'].dtype)\n",
    "print(train_data['column_16'].unique())\n",
    "print()\n",
    "print(train_data['column_17'].dtype)\n",
    "print(train_data['column_17'].unique())\n",
    "print()\n",
    "print(train_data['column_29'].dtype)\n",
    "print(train_data['column_29'].unique())"
   ]
  },
  {
   "cell_type": "code",
   "execution_count": 7,
   "id": "409bd6a2",
   "metadata": {
    "execution": {
     "iopub.execute_input": "2024-08-18T12:54:43.445348Z",
     "iopub.status.busy": "2024-08-18T12:54:43.444932Z",
     "iopub.status.idle": "2024-08-18T12:54:43.501687Z",
     "shell.execute_reply": "2024-08-18T12:54:43.500431Z"
    },
    "papermill": {
     "duration": 0.077386,
     "end_time": "2024-08-18T12:54:43.504375",
     "exception": false,
     "start_time": "2024-08-18T12:54:43.426989",
     "status": "completed"
    },
    "tags": []
   },
   "outputs": [],
   "source": [
    "\n",
    "\n",
    "\n",
    "# for i in train_data['column_7']:\n",
    "#     print(type(i))\n",
    "\n",
    "\n",
    "# column ที่มีปัญหา\n",
    "p_column = ['column_7','column_14', 'column_16', 'column_17', 'column_29']\n",
    "\n",
    "# ลบคอมม่าออกจากข้อมูล\n",
    "# train_data['column_7'] = train_data['column_7'].replace({',': ''}, regex=True)\n",
    "\n",
    "# แปลงข้อมูลเป็นตัวเลข\n",
    "# train_data['column_7'] = pd.to_numeric(train_data['column_7'], errors='coerce')\n",
    "\n",
    "\n",
    "for i in p_column:\n",
    "    train_data[i] = train_data[i].replace({',': ''}, regex=True)\n",
    "    train_data[i] = pd.to_numeric(train_data[i], errors='coerce')\n",
    "\n",
    "\n",
    "\n",
    "\n",
    "# count = 0\n",
    "# for i in train_data['column_7']:\n",
    "#     print(type(i)) #คำนวณได้ละ\n",
    "#     count += 1\n",
    "#     if count == 10:\n",
    "#         break"
   ]
  },
  {
   "cell_type": "code",
   "execution_count": 8,
   "id": "c8907e64",
   "metadata": {
    "execution": {
     "iopub.execute_input": "2024-08-18T12:54:43.536250Z",
     "iopub.status.busy": "2024-08-18T12:54:43.535843Z",
     "iopub.status.idle": "2024-08-18T12:54:43.549418Z",
     "shell.execute_reply": "2024-08-18T12:54:43.548265Z"
    },
    "papermill": {
     "duration": 0.032601,
     "end_time": "2024-08-18T12:54:43.552044",
     "exception": false,
     "start_time": "2024-08-18T12:54:43.519443",
     "status": "completed"
    },
    "tags": []
   },
   "outputs": [
    {
     "data": {
      "text/plain": [
       "count    2651.000000\n",
       "mean     1443.012863\n",
       "std       247.887026\n",
       "min      1050.800000\n",
       "25%      1246.750000\n",
       "50%      1324.200000\n",
       "75%      1675.850000\n",
       "max      2051.500000\n",
       "Name: column_7, dtype: float64"
      ]
     },
     "execution_count": 8,
     "metadata": {},
     "output_type": "execute_result"
    }
   ],
   "source": [
    "train_data['column_7'].describe()"
   ]
  },
  {
   "cell_type": "code",
   "execution_count": 9,
   "id": "b7814106",
   "metadata": {
    "execution": {
     "iopub.execute_input": "2024-08-18T12:54:43.584258Z",
     "iopub.status.busy": "2024-08-18T12:54:43.583868Z",
     "iopub.status.idle": "2024-08-18T12:54:43.595523Z",
     "shell.execute_reply": "2024-08-18T12:54:43.594256Z"
    },
    "papermill": {
     "duration": 0.030677,
     "end_time": "2024-08-18T12:54:43.597965",
     "exception": false,
     "start_time": "2024-08-18T12:54:43.567288",
     "status": "completed"
    },
    "tags": []
   },
   "outputs": [
    {
     "data": {
      "text/plain": [
       "ID                0\n",
       "column_1          0\n",
       " column_2         0\n",
       "column_3          0\n",
       "column_4          0\n",
       "column_5          0\n",
       "column_6          0\n",
       "column_7          1\n",
       "column_8          0\n",
       "column_9          0\n",
       "column_10         0\n",
       "column_11         0\n",
       "column_12         0\n",
       "column_13         0\n",
       "column_14        12\n",
       "column_15         2\n",
       "column_16         0\n",
       "column_17         0\n",
       "column_18         0\n",
       "column_19         0\n",
       "column_20         0\n",
       "column_21         0\n",
       "column_22         0\n",
       "column_23         0\n",
       "column_24         0\n",
       "column_25         0\n",
       "column_26         0\n",
       "column_27         0\n",
       "column_28         0\n",
       "column_29         1\n",
       "column_30         0\n",
       "column_31      2353\n",
       "column_32         0\n",
       "column_33         0\n",
       "column_34         0\n",
       "column_35         0\n",
       "column_36         0\n",
       "column_37         0\n",
       "column_38         0\n",
       "column_39         0\n",
       "column_40         0\n",
       "sugar_price       0\n",
       "dtype: int64"
      ]
     },
     "execution_count": 9,
     "metadata": {},
     "output_type": "execute_result"
    }
   ],
   "source": [
    "train_data.isnull().sum()"
   ]
  },
  {
   "cell_type": "code",
   "execution_count": 10,
   "id": "47f21615",
   "metadata": {
    "execution": {
     "iopub.execute_input": "2024-08-18T12:54:43.630500Z",
     "iopub.status.busy": "2024-08-18T12:54:43.630123Z",
     "iopub.status.idle": "2024-08-18T12:54:43.636259Z",
     "shell.execute_reply": "2024-08-18T12:54:43.635071Z"
    },
    "papermill": {
     "duration": 0.026669,
     "end_time": "2024-08-18T12:54:43.640132",
     "exception": false,
     "start_time": "2024-08-18T12:54:43.613463",
     "status": "completed"
    },
    "tags": []
   },
   "outputs": [
    {
     "name": "stdout",
     "output_type": "stream",
     "text": [
      "<class 'str'>\n",
      "<class 'str'>\n",
      "<class 'str'>\n",
      "<class 'str'>\n",
      "<class 'str'>\n",
      "<class 'str'>\n",
      "<class 'str'>\n",
      "<class 'str'>\n",
      "<class 'str'>\n",
      "<class 'str'>\n",
      "<class 'str'>\n",
      "<class 'str'>\n",
      "<class 'str'>\n",
      "<class 'str'>\n",
      "<class 'str'>\n",
      "<class 'str'>\n",
      "<class 'str'>\n",
      "<class 'str'>\n",
      "<class 'str'>\n",
      "<class 'str'>\n",
      "<class 'str'>\n",
      "<class 'str'>\n",
      "<class 'str'>\n",
      "<class 'str'>\n",
      "<class 'str'>\n",
      "<class 'str'>\n",
      "<class 'str'>\n",
      "<class 'str'>\n",
      "<class 'str'>\n",
      "<class 'str'>\n",
      "<class 'str'>\n",
      "<class 'str'>\n",
      "<class 'str'>\n",
      "<class 'str'>\n",
      "<class 'str'>\n",
      "<class 'str'>\n",
      "<class 'str'>\n",
      "<class 'str'>\n",
      "<class 'str'>\n",
      "<class 'str'>\n",
      "<class 'str'>\n",
      "<class 'str'>\n"
     ]
    }
   ],
   "source": [
    "#เช็ค type\n",
    "for i in column_names:\n",
    "    print(type(i))"
   ]
  },
  {
   "cell_type": "markdown",
   "id": "6f6a1acb",
   "metadata": {
    "papermill": {
     "duration": 0.015724,
     "end_time": "2024-08-18T12:54:43.671644",
     "exception": false,
     "start_time": "2024-08-18T12:54:43.655920",
     "status": "completed"
    },
    "tags": []
   },
   "source": [
    "# Clean data"
   ]
  },
  {
   "cell_type": "code",
   "execution_count": 11,
   "id": "886a3eb1",
   "metadata": {
    "execution": {
     "iopub.execute_input": "2024-08-18T12:54:43.705472Z",
     "iopub.status.busy": "2024-08-18T12:54:43.705064Z",
     "iopub.status.idle": "2024-08-18T12:54:43.728636Z",
     "shell.execute_reply": "2024-08-18T12:54:43.727415Z"
    },
    "papermill": {
     "duration": 0.043769,
     "end_time": "2024-08-18T12:54:43.731368",
     "exception": false,
     "start_time": "2024-08-18T12:54:43.687599",
     "status": "completed"
    },
    "tags": []
   },
   "outputs": [
    {
     "name": "stderr",
     "output_type": "stream",
     "text": [
      "/tmp/ipykernel_18/3837307415.py:8: FutureWarning: A value is trying to be set on a copy of a DataFrame or Series through chained assignment using an inplace method.\n",
      "The behavior will change in pandas 3.0. This inplace method will never work because the intermediate object on which we are setting values always behaves as a copy.\n",
      "\n",
      "For example, when doing 'df[col].method(value, inplace=True)', try using 'df.method({col: value}, inplace=True)' or df[col] = df[col].method(value) instead, to perform the operation inplace on the original object.\n",
      "\n",
      "\n",
      "  data[col].fillna(data[col].mean(), inplace=True)\n"
     ]
    }
   ],
   "source": [
    "#column_7          1\n",
    "#column_14        12\n",
    "#column_15         2\n",
    "#column_31      2353\n",
    "def clean(data):\n",
    "    cols = column_names\n",
    "    for col in cols:\n",
    "        data[col].fillna(data[col].mean(), inplace=True)\n",
    "        \n",
    "    return data\n",
    "\n",
    "train_data = clean(train_data)"
   ]
  },
  {
   "cell_type": "code",
   "execution_count": 12,
   "id": "13cfab92",
   "metadata": {
    "execution": {
     "iopub.execute_input": "2024-08-18T12:54:43.765127Z",
     "iopub.status.busy": "2024-08-18T12:54:43.764725Z",
     "iopub.status.idle": "2024-08-18T12:54:45.020252Z",
     "shell.execute_reply": "2024-08-18T12:54:45.018538Z"
    },
    "papermill": {
     "duration": 1.276462,
     "end_time": "2024-08-18T12:54:45.023533",
     "exception": false,
     "start_time": "2024-08-18T12:54:43.747071",
     "status": "completed"
    },
    "tags": []
   },
   "outputs": [
    {
     "data": {
      "image/png": "[encoded data removed]",
      "text/plain": [
       "<Figure size 1600x1200 with 2 Axes>"
      ]
     },
     "metadata": {},
     "output_type": "display_data"
    }
   ],
   "source": [
    "corr_matrix = train_data.corr()\n",
    "# สร้าง heatmap เพื่อ visualize correlation matrix\n",
    "plt.figure(figsize=(16, 12))\n",
    "sb.heatmap(corr_matrix, annot=False, cmap='coolwarm', fmt='.2f', square=True)\n",
    "plt.title('Correlation Heatmap of 40 Features')\n",
    "plt.show()"
   ]
  },
  {
   "cell_type": "code",
   "execution_count": 13,
   "id": "bb7b449f",
   "metadata": {
    "execution": {
     "iopub.execute_input": "2024-08-18T12:54:45.067946Z",
     "iopub.status.busy": "2024-08-18T12:54:45.067510Z",
     "iopub.status.idle": "2024-08-18T12:54:45.078875Z",
     "shell.execute_reply": "2024-08-18T12:54:45.077815Z"
    },
    "papermill": {
     "duration": 0.034518,
     "end_time": "2024-08-18T12:54:45.081332",
     "exception": false,
     "start_time": "2024-08-18T12:54:45.046814",
     "status": "completed"
    },
    "tags": []
   },
   "outputs": [
    {
     "data": {
      "text/plain": [
       "ID             0\n",
       "column_1       0\n",
       " column_2      0\n",
       "column_3       0\n",
       "column_4       0\n",
       "column_5       0\n",
       "column_6       0\n",
       "column_7       0\n",
       "column_8       0\n",
       "column_9       0\n",
       "column_10      0\n",
       "column_11      0\n",
       "column_12      0\n",
       "column_13      0\n",
       "column_14      0\n",
       "column_15      0\n",
       "column_16      0\n",
       "column_17      0\n",
       "column_18      0\n",
       "column_19      0\n",
       "column_20      0\n",
       "column_21      0\n",
       "column_22      0\n",
       "column_23      0\n",
       "column_24      0\n",
       "column_25      0\n",
       "column_26      0\n",
       "column_27      0\n",
       "column_28      0\n",
       "column_29      0\n",
       "column_30      0\n",
       "column_31      0\n",
       "column_32      0\n",
       "column_33      0\n",
       "column_34      0\n",
       "column_35      0\n",
       "column_36      0\n",
       "column_37      0\n",
       "column_38      0\n",
       "column_39      0\n",
       "column_40      0\n",
       "sugar_price    0\n",
       "dtype: int64"
      ]
     },
     "execution_count": 13,
     "metadata": {},
     "output_type": "execute_result"
    }
   ],
   "source": [
    "train_data.isnull().sum() #ควรจะไม่มี column ไหน nan"
   ]
  },
  {
   "cell_type": "markdown",
   "id": "49599d16",
   "metadata": {
    "papermill": {
     "duration": 0.017993,
     "end_time": "2024-08-18T12:54:45.117310",
     "exception": false,
     "start_time": "2024-08-18T12:54:45.099317",
     "status": "completed"
    },
    "tags": []
   },
   "source": [
    "# ลบ column_31"
   ]
  },
  {
   "cell_type": "code",
   "execution_count": 14,
   "id": "7c7f6cb5",
   "metadata": {
    "execution": {
     "iopub.execute_input": "2024-08-18T12:54:45.156349Z",
     "iopub.status.busy": "2024-08-18T12:54:45.155904Z",
     "iopub.status.idle": "2024-08-18T12:54:45.668964Z",
     "shell.execute_reply": "2024-08-18T12:54:45.667781Z"
    },
    "papermill": {
     "duration": 0.536013,
     "end_time": "2024-08-18T12:54:45.671991",
     "exception": false,
     "start_time": "2024-08-18T12:54:45.135978",
     "status": "completed"
    },
    "tags": []
   },
   "outputs": [],
   "source": [
    "import xgboost as xgb\n",
    "from sklearn.model_selection import train_test_split\n",
    "from sklearn.metrics import mean_squared_error, mean_absolute_error, r2_score\n",
    "\n",
    "#missing เยอะมาก ลบ column_31 ?\n",
    "X = train_data.drop(['ID','sugar_price','column_31'], axis=1)\n",
    "y = train_data['sugar_price']"
   ]
  },
  {
   "cell_type": "markdown",
   "id": "100ca650",
   "metadata": {
    "papermill": {
     "duration": 0.018222,
     "end_time": "2024-08-18T12:54:45.708971",
     "exception": false,
     "start_time": "2024-08-18T12:54:45.690749",
     "status": "completed"
    },
    "tags": []
   },
   "source": [
    "# เพิ่ม noise"
   ]
  },
  {
   "cell_type": "code",
   "execution_count": 15,
   "id": "d7617adf",
   "metadata": {
    "execution": {
     "iopub.execute_input": "2024-08-18T12:54:45.747372Z",
     "iopub.status.busy": "2024-08-18T12:54:45.746384Z",
     "iopub.status.idle": "2024-08-18T12:54:45.784166Z",
     "shell.execute_reply": "2024-08-18T12:54:45.783050Z"
    },
    "papermill": {
     "duration": 0.059541,
     "end_time": "2024-08-18T12:54:45.787155",
     "exception": false,
     "start_time": "2024-08-18T12:54:45.727614",
     "status": "completed"
    },
    "tags": []
   },
   "outputs": [
    {
     "data": {
      "text/html": [
       "<div>\n",
       "<style scoped>\n",
       "    .dataframe tbody tr th:only-of-type {\n",
       "        vertical-align: middle;\n",
       "    }\n",
       "\n",
       "    .dataframe tbody tr th {\n",
       "        vertical-align: top;\n",
       "    }\n",
       "\n",
       "    .dataframe thead th {\n",
       "        text-align: right;\n",
       "    }\n",
       "</style>\n",
       "<table border=\"1\" class=\"dataframe\">\n",
       "  <thead>\n",
       "    <tr style=\"text-align: right;\">\n",
       "      <th></th>\n",
       "      <th>column_1</th>\n",
       "      <th>column_2</th>\n",
       "      <th>column_3</th>\n",
       "      <th>column_4</th>\n",
       "      <th>column_5</th>\n",
       "      <th>column_6</th>\n",
       "      <th>column_7</th>\n",
       "      <th>column_8</th>\n",
       "      <th>column_9</th>\n",
       "      <th>column_10</th>\n",
       "      <th>...</th>\n",
       "      <th>column_30</th>\n",
       "      <th>column_32</th>\n",
       "      <th>column_33</th>\n",
       "      <th>column_34</th>\n",
       "      <th>column_35</th>\n",
       "      <th>column_36</th>\n",
       "      <th>column_37</th>\n",
       "      <th>column_38</th>\n",
       "      <th>column_39</th>\n",
       "      <th>column_40</th>\n",
       "    </tr>\n",
       "  </thead>\n",
       "  <tbody>\n",
       "    <tr>\n",
       "      <th>0</th>\n",
       "      <td>35.924852</td>\n",
       "      <td>73.669476</td>\n",
       "      <td>36.035255</td>\n",
       "      <td>37.554554</td>\n",
       "      <td>0.012162</td>\n",
       "      <td>0.208187</td>\n",
       "      <td>1650.606301</td>\n",
       "      <td>37.687212</td>\n",
       "      <td>39.699028</td>\n",
       "      <td>34.092826</td>\n",
       "      <td>...</td>\n",
       "      <td>3.832167</td>\n",
       "      <td>35.213381</td>\n",
       "      <td>37.192390</td>\n",
       "      <td>27.290871</td>\n",
       "      <td>40.144335</td>\n",
       "      <td>36.871518</td>\n",
       "      <td>37.743430</td>\n",
       "      <td>-45.664951</td>\n",
       "      <td>29.600343</td>\n",
       "      <td>28.939448</td>\n",
       "    </tr>\n",
       "    <tr>\n",
       "      <th>1</th>\n",
       "      <td>35.435911</td>\n",
       "      <td>72.903075</td>\n",
       "      <td>35.527205</td>\n",
       "      <td>37.017908</td>\n",
       "      <td>0.003715</td>\n",
       "      <td>0.186235</td>\n",
       "      <td>1616.292472</td>\n",
       "      <td>37.178532</td>\n",
       "      <td>39.137682</td>\n",
       "      <td>33.617785</td>\n",
       "      <td>...</td>\n",
       "      <td>3.765154</td>\n",
       "      <td>34.732572</td>\n",
       "      <td>36.658491</td>\n",
       "      <td>26.920597</td>\n",
       "      <td>39.590847</td>\n",
       "      <td>36.349269</td>\n",
       "      <td>37.200951</td>\n",
       "      <td>-44.990569</td>\n",
       "      <td>29.369796</td>\n",
       "      <td>28.728644</td>\n",
       "    </tr>\n",
       "    <tr>\n",
       "      <th>2</th>\n",
       "      <td>37.076597</td>\n",
       "      <td>75.386619</td>\n",
       "      <td>37.151131</td>\n",
       "      <td>38.691258</td>\n",
       "      <td>0.020945</td>\n",
       "      <td>0.189337</td>\n",
       "      <td>1615.504976</td>\n",
       "      <td>38.866078</td>\n",
       "      <td>40.912481</td>\n",
       "      <td>35.148630</td>\n",
       "      <td>...</td>\n",
       "      <td>3.737844</td>\n",
       "      <td>36.310077</td>\n",
       "      <td>38.344075</td>\n",
       "      <td>28.157384</td>\n",
       "      <td>41.402171</td>\n",
       "      <td>38.002236</td>\n",
       "      <td>38.907728</td>\n",
       "      <td>-47.193884</td>\n",
       "      <td>30.062095</td>\n",
       "      <td>29.292939</td>\n",
       "    </tr>\n",
       "    <tr>\n",
       "      <th>3</th>\n",
       "      <td>36.354841</td>\n",
       "      <td>74.300879</td>\n",
       "      <td>36.437848</td>\n",
       "      <td>37.962850</td>\n",
       "      <td>0.007210</td>\n",
       "      <td>0.204436</td>\n",
       "      <td>1620.399747</td>\n",
       "      <td>38.122156</td>\n",
       "      <td>40.162314</td>\n",
       "      <td>34.483723</td>\n",
       "      <td>...</td>\n",
       "      <td>3.684444</td>\n",
       "      <td>35.605366</td>\n",
       "      <td>37.618484</td>\n",
       "      <td>27.602511</td>\n",
       "      <td>40.617726</td>\n",
       "      <td>37.291888</td>\n",
       "      <td>38.155010</td>\n",
       "      <td>-46.259437</td>\n",
       "      <td>29.750036</td>\n",
       "      <td>29.034274</td>\n",
       "    </tr>\n",
       "    <tr>\n",
       "      <th>4</th>\n",
       "      <td>34.301898</td>\n",
       "      <td>71.126294</td>\n",
       "      <td>34.384205</td>\n",
       "      <td>35.830365</td>\n",
       "      <td>0.026107</td>\n",
       "      <td>0.228728</td>\n",
       "      <td>1655.999501</td>\n",
       "      <td>35.973136</td>\n",
       "      <td>37.866912</td>\n",
       "      <td>32.533292</td>\n",
       "      <td>...</td>\n",
       "      <td>3.617874</td>\n",
       "      <td>33.600795</td>\n",
       "      <td>35.474422</td>\n",
       "      <td>26.053779</td>\n",
       "      <td>38.345187</td>\n",
       "      <td>35.185952</td>\n",
       "      <td>36.006125</td>\n",
       "      <td>-43.447326</td>\n",
       "      <td>28.903815</td>\n",
       "      <td>28.362648</td>\n",
       "    </tr>\n",
       "  </tbody>\n",
       "</table>\n",
       "<p>5 rows × 39 columns</p>\n",
       "</div>"
      ],
      "text/plain": [
       "    column_1   column_2    column_3   column_4  column_5  column_6  \\\n",
       "0  35.924852   73.669476  36.035255  37.554554  0.012162  0.208187   \n",
       "1  35.435911   72.903075  35.527205  37.017908  0.003715  0.186235   \n",
       "2  37.076597   75.386619  37.151131  38.691258  0.020945  0.189337   \n",
       "3  36.354841   74.300879  36.437848  37.962850  0.007210  0.204436   \n",
       "4  34.301898   71.126294  34.384205  35.830365  0.026107  0.228728   \n",
       "\n",
       "      column_7   column_8   column_9  column_10  ...  column_30  column_32  \\\n",
       "0  1650.606301  37.687212  39.699028  34.092826  ...   3.832167  35.213381   \n",
       "1  1616.292472  37.178532  39.137682  33.617785  ...   3.765154  34.732572   \n",
       "2  1615.504976  38.866078  40.912481  35.148630  ...   3.737844  36.310077   \n",
       "3  1620.399747  38.122156  40.162314  34.483723  ...   3.684444  35.605366   \n",
       "4  1655.999501  35.973136  37.866912  32.533292  ...   3.617874  33.600795   \n",
       "\n",
       "   column_33  column_34  column_35  column_36  column_37  column_38  \\\n",
       "0  37.192390  27.290871  40.144335  36.871518  37.743430 -45.664951   \n",
       "1  36.658491  26.920597  39.590847  36.349269  37.200951 -44.990569   \n",
       "2  38.344075  28.157384  41.402171  38.002236  38.907728 -47.193884   \n",
       "3  37.618484  27.602511  40.617726  37.291888  38.155010 -46.259437   \n",
       "4  35.474422  26.053779  38.345187  35.185952  36.006125 -43.447326   \n",
       "\n",
       "   column_39  column_40  \n",
       "0  29.600343  28.939448  \n",
       "1  29.369796  28.728644  \n",
       "2  30.062095  29.292939  \n",
       "3  29.750036  29.034274  \n",
       "4  28.903815  28.362648  \n",
       "\n",
       "[5 rows x 39 columns]"
      ]
     },
     "execution_count": 15,
     "metadata": {},
     "output_type": "execute_result"
    }
   ],
   "source": [
    "# สร้างฟังก์ชันสำหรับเพิ่ม noise\n",
    "def add_noise(data, noise_level=0.01):\n",
    "    noise = np.random.normal(0, noise_level, data.shape)\n",
    "    return data + noise\n",
    "\n",
    "\n",
    "X = add_noise(X,noise_level=0.01)\n",
    "X.head()"
   ]
  },
  {
   "cell_type": "markdown",
   "id": "21898a6c",
   "metadata": {
    "papermill": {
     "duration": 0.017592,
     "end_time": "2024-08-18T12:54:45.823214",
     "exception": false,
     "start_time": "2024-08-18T12:54:45.805622",
     "status": "completed"
    },
    "tags": []
   },
   "source": [
    "# ลบ column เพิ่ม"
   ]
  },
  {
   "cell_type": "code",
   "execution_count": 16,
   "id": "cee1ea45",
   "metadata": {
    "execution": {
     "iopub.execute_input": "2024-08-18T12:54:45.860977Z",
     "iopub.status.busy": "2024-08-18T12:54:45.860520Z",
     "iopub.status.idle": "2024-08-18T12:54:45.865637Z",
     "shell.execute_reply": "2024-08-18T12:54:45.864482Z"
    },
    "papermill": {
     "duration": 0.027013,
     "end_time": "2024-08-18T12:54:45.868039",
     "exception": false,
     "start_time": "2024-08-18T12:54:45.841026",
     "status": "completed"
    },
    "tags": []
   },
   "outputs": [],
   "source": [
    "# import xgboost as xgb\n",
    "# from sklearn.model_selection import train_test_split\n",
    "# from sklearn.metrics import mean_squared_error, mean_absolute_error, r2_score\n",
    "\n",
    "# #missing เยอะมาก ลบ column_31 ?????\n",
    "# X = train_data.drop(['ID','sugar_price','column_31','column_40','column_29','column_30','column_7','column_15','column_16','column_17','column_6','column_5'], axis=1)\n",
    "# y = train_data['sugar_price']"
   ]
  },
  {
   "cell_type": "markdown",
   "id": "eccfabb8",
   "metadata": {
    "papermill": {
     "duration": 0.01756,
     "end_time": "2024-08-18T12:54:45.903584",
     "exception": false,
     "start_time": "2024-08-18T12:54:45.886024",
     "status": "completed"
    },
    "tags": []
   },
   "source": [
    "# PCA"
   ]
  },
  {
   "cell_type": "code",
   "execution_count": 17,
   "id": "aa3ffc13",
   "metadata": {
    "execution": {
     "iopub.execute_input": "2024-08-18T12:54:45.942325Z",
     "iopub.status.busy": "2024-08-18T12:54:45.941917Z",
     "iopub.status.idle": "2024-08-18T12:54:46.420182Z",
     "shell.execute_reply": "2024-08-18T12:54:46.418642Z"
    },
    "papermill": {
     "duration": 0.501801,
     "end_time": "2024-08-18T12:54:46.424030",
     "exception": false,
     "start_time": "2024-08-18T12:54:45.922229",
     "status": "completed"
    },
    "tags": []
   },
   "outputs": [
    {
     "data": {
      "text/plain": [
       "<Axes: xlabel='pc', ylabel='var'>"
      ]
     },
     "execution_count": 17,
     "metadata": {},
     "output_type": "execute_result"
    },
    {
     "data": {
      "image/png": "[encoded data removed]",
      "text/plain": [
       "<Figure size 640x480 with 1 Axes>"
      ]
     },
     "metadata": {},
     "output_type": "display_data"
    }
   ],
   "source": [
    "from sklearn.decomposition import PCA\n",
    "\n",
    "\n",
    "\n",
    "\n",
    "\n",
    "n = 4\n",
    "\n",
    "pca = PCA(n_components = n)\n",
    "X_pca = pca.fit_transform(X)\n",
    "\n",
    "\n",
    "#สรุปใช้ n_component = 2 จะได้ variance 95% กว่า\n",
    "# plt.plot(np.cumsum(pca.explained_variance_ratio_))\n",
    "# plt.xlabel('Number of Components')\n",
    "# plt.ylabel('Cumulative Explained Variance')\n",
    "# plt.grid(True)\n",
    "# plt.show()\n",
    "\n",
    "\n",
    "for i in range(n):\n",
    "    X[f'PCA{i+1}'] = X_pca[:,i]\n",
    "\n",
    "\n",
    "df = pd.DataFrame({'var':pca.explained_variance_ratio_,'pc':[f'PCA{i+1}' for i in range(n)]})\n",
    "sb.barplot(x = 'pc', y = 'var', data = df, color = 'c')\n"
   ]
  },
  {
   "cell_type": "code",
   "execution_count": 18,
   "id": "aa880475",
   "metadata": {
    "execution": {
     "iopub.execute_input": "2024-08-18T12:54:46.477514Z",
     "iopub.status.busy": "2024-08-18T12:54:46.477089Z",
     "iopub.status.idle": "2024-08-18T12:54:46.507801Z",
     "shell.execute_reply": "2024-08-18T12:54:46.506637Z"
    },
    "papermill": {
     "duration": 0.059252,
     "end_time": "2024-08-18T12:54:46.510319",
     "exception": false,
     "start_time": "2024-08-18T12:54:46.451067",
     "status": "completed"
    },
    "tags": []
   },
   "outputs": [
    {
     "data": {
      "text/html": [
       "<div>\n",
       "<style scoped>\n",
       "    .dataframe tbody tr th:only-of-type {\n",
       "        vertical-align: middle;\n",
       "    }\n",
       "\n",
       "    .dataframe tbody tr th {\n",
       "        vertical-align: top;\n",
       "    }\n",
       "\n",
       "    .dataframe thead th {\n",
       "        text-align: right;\n",
       "    }\n",
       "</style>\n",
       "<table border=\"1\" class=\"dataframe\">\n",
       "  <thead>\n",
       "    <tr style=\"text-align: right;\">\n",
       "      <th></th>\n",
       "      <th>column_1</th>\n",
       "      <th>column_2</th>\n",
       "      <th>column_3</th>\n",
       "      <th>column_4</th>\n",
       "      <th>column_5</th>\n",
       "      <th>column_6</th>\n",
       "      <th>column_7</th>\n",
       "      <th>column_8</th>\n",
       "      <th>column_9</th>\n",
       "      <th>column_10</th>\n",
       "      <th>...</th>\n",
       "      <th>column_35</th>\n",
       "      <th>column_36</th>\n",
       "      <th>column_37</th>\n",
       "      <th>column_38</th>\n",
       "      <th>column_39</th>\n",
       "      <th>column_40</th>\n",
       "      <th>PCA1</th>\n",
       "      <th>PCA2</th>\n",
       "      <th>PCA3</th>\n",
       "      <th>PCA4</th>\n",
       "    </tr>\n",
       "  </thead>\n",
       "  <tbody>\n",
       "    <tr>\n",
       "      <th>0</th>\n",
       "      <td>35.924852</td>\n",
       "      <td>73.669476</td>\n",
       "      <td>36.035255</td>\n",
       "      <td>37.554554</td>\n",
       "      <td>0.012162</td>\n",
       "      <td>0.208187</td>\n",
       "      <td>1650.606301</td>\n",
       "      <td>37.687212</td>\n",
       "      <td>39.699028</td>\n",
       "      <td>34.092826</td>\n",
       "      <td>...</td>\n",
       "      <td>40.144335</td>\n",
       "      <td>36.871518</td>\n",
       "      <td>37.743430</td>\n",
       "      <td>-45.664951</td>\n",
       "      <td>29.600343</td>\n",
       "      <td>28.939448</td>\n",
       "      <td>430.307908</td>\n",
       "      <td>-114.124639</td>\n",
       "      <td>116.065387</td>\n",
       "      <td>-111.052580</td>\n",
       "    </tr>\n",
       "    <tr>\n",
       "      <th>1</th>\n",
       "      <td>35.435911</td>\n",
       "      <td>72.903075</td>\n",
       "      <td>35.527205</td>\n",
       "      <td>37.017908</td>\n",
       "      <td>0.003715</td>\n",
       "      <td>0.186235</td>\n",
       "      <td>1616.292472</td>\n",
       "      <td>37.178532</td>\n",
       "      <td>39.137682</td>\n",
       "      <td>33.617785</td>\n",
       "      <td>...</td>\n",
       "      <td>39.590847</td>\n",
       "      <td>36.349269</td>\n",
       "      <td>37.200951</td>\n",
       "      <td>-44.990569</td>\n",
       "      <td>29.369796</td>\n",
       "      <td>28.728644</td>\n",
       "      <td>384.049163</td>\n",
       "      <td>-124.108342</td>\n",
       "      <td>130.890815</td>\n",
       "      <td>-109.091511</td>\n",
       "    </tr>\n",
       "    <tr>\n",
       "      <th>2</th>\n",
       "      <td>37.076597</td>\n",
       "      <td>75.386619</td>\n",
       "      <td>37.151131</td>\n",
       "      <td>38.691258</td>\n",
       "      <td>0.020945</td>\n",
       "      <td>0.189337</td>\n",
       "      <td>1615.504976</td>\n",
       "      <td>38.866078</td>\n",
       "      <td>40.912481</td>\n",
       "      <td>35.148630</td>\n",
       "      <td>...</td>\n",
       "      <td>41.402171</td>\n",
       "      <td>38.002236</td>\n",
       "      <td>38.907728</td>\n",
       "      <td>-47.193884</td>\n",
       "      <td>30.062095</td>\n",
       "      <td>29.292939</td>\n",
       "      <td>385.625536</td>\n",
       "      <td>-120.075577</td>\n",
       "      <td>103.696898</td>\n",
       "      <td>-98.615182</td>\n",
       "    </tr>\n",
       "    <tr>\n",
       "      <th>3</th>\n",
       "      <td>36.354841</td>\n",
       "      <td>74.300879</td>\n",
       "      <td>36.437848</td>\n",
       "      <td>37.962850</td>\n",
       "      <td>0.007210</td>\n",
       "      <td>0.204436</td>\n",
       "      <td>1620.399747</td>\n",
       "      <td>38.122156</td>\n",
       "      <td>40.162314</td>\n",
       "      <td>34.483723</td>\n",
       "      <td>...</td>\n",
       "      <td>40.617726</td>\n",
       "      <td>37.291888</td>\n",
       "      <td>38.155010</td>\n",
       "      <td>-46.259437</td>\n",
       "      <td>29.750036</td>\n",
       "      <td>29.034274</td>\n",
       "      <td>337.152956</td>\n",
       "      <td>-83.786528</td>\n",
       "      <td>150.288764</td>\n",
       "      <td>-103.108467</td>\n",
       "    </tr>\n",
       "    <tr>\n",
       "      <th>4</th>\n",
       "      <td>34.301898</td>\n",
       "      <td>71.126294</td>\n",
       "      <td>34.384205</td>\n",
       "      <td>35.830365</td>\n",
       "      <td>0.026107</td>\n",
       "      <td>0.228728</td>\n",
       "      <td>1655.999501</td>\n",
       "      <td>35.973136</td>\n",
       "      <td>37.866912</td>\n",
       "      <td>32.533292</td>\n",
       "      <td>...</td>\n",
       "      <td>38.345187</td>\n",
       "      <td>35.185952</td>\n",
       "      <td>36.006125</td>\n",
       "      <td>-43.447326</td>\n",
       "      <td>28.903815</td>\n",
       "      <td>28.362648</td>\n",
       "      <td>368.482718</td>\n",
       "      <td>-62.990444</td>\n",
       "      <td>151.416565</td>\n",
       "      <td>-93.046937</td>\n",
       "    </tr>\n",
       "  </tbody>\n",
       "</table>\n",
       "<p>5 rows × 43 columns</p>\n",
       "</div>"
      ],
      "text/plain": [
       "    column_1   column_2    column_3   column_4  column_5  column_6  \\\n",
       "0  35.924852   73.669476  36.035255  37.554554  0.012162  0.208187   \n",
       "1  35.435911   72.903075  35.527205  37.017908  0.003715  0.186235   \n",
       "2  37.076597   75.386619  37.151131  38.691258  0.020945  0.189337   \n",
       "3  36.354841   74.300879  36.437848  37.962850  0.007210  0.204436   \n",
       "4  34.301898   71.126294  34.384205  35.830365  0.026107  0.228728   \n",
       "\n",
       "      column_7   column_8   column_9  column_10  ...  column_35  column_36  \\\n",
       "0  1650.606301  37.687212  39.699028  34.092826  ...  40.144335  36.871518   \n",
       "1  1616.292472  37.178532  39.137682  33.617785  ...  39.590847  36.349269   \n",
       "2  1615.504976  38.866078  40.912481  35.148630  ...  41.402171  38.002236   \n",
       "3  1620.399747  38.122156  40.162314  34.483723  ...  40.617726  37.291888   \n",
       "4  1655.999501  35.973136  37.866912  32.533292  ...  38.345187  35.185952   \n",
       "\n",
       "   column_37  column_38  column_39  column_40        PCA1        PCA2  \\\n",
       "0  37.743430 -45.664951  29.600343  28.939448  430.307908 -114.124639   \n",
       "1  37.200951 -44.990569  29.369796  28.728644  384.049163 -124.108342   \n",
       "2  38.907728 -47.193884  30.062095  29.292939  385.625536 -120.075577   \n",
       "3  38.155010 -46.259437  29.750036  29.034274  337.152956  -83.786528   \n",
       "4  36.006125 -43.447326  28.903815  28.362648  368.482718  -62.990444   \n",
       "\n",
       "         PCA3        PCA4  \n",
       "0  116.065387 -111.052580  \n",
       "1  130.890815 -109.091511  \n",
       "2  103.696898  -98.615182  \n",
       "3  150.288764 -103.108467  \n",
       "4  151.416565  -93.046937  \n",
       "\n",
       "[5 rows x 43 columns]"
      ]
     },
     "execution_count": 18,
     "metadata": {},
     "output_type": "execute_result"
    }
   ],
   "source": [
    "X.head()"
   ]
  },
  {
   "cell_type": "markdown",
   "id": "7ff90db1",
   "metadata": {
    "papermill": {
     "duration": 0.026993,
     "end_time": "2024-08-18T12:54:46.563517",
     "exception": false,
     "start_time": "2024-08-18T12:54:46.536524",
     "status": "completed"
    },
    "tags": []
   },
   "source": [
    "# PCA -> LSTM ใช้ test เป็น 365 วันล่าสุดเป็นตัวทดสอบและส่ง รวมไฟล์ submission.csv"
   ]
  },
  {
   "cell_type": "code",
   "execution_count": 19,
   "id": "7f7d8829",
   "metadata": {
    "execution": {
     "iopub.execute_input": "2024-08-18T12:54:46.679042Z",
     "iopub.status.busy": "2024-08-18T12:54:46.678656Z",
     "iopub.status.idle": "2024-08-18T12:55:18.141045Z",
     "shell.execute_reply": "2024-08-18T12:55:18.139869Z"
    },
    "papermill": {
     "duration": 31.557277,
     "end_time": "2024-08-18T12:55:18.143697",
     "exception": false,
     "start_time": "2024-08-18T12:54:46.586420",
     "status": "completed"
    },
    "tags": []
   },
   "outputs": [
    {
     "name": "stderr",
     "output_type": "stream",
     "text": [
      "2024-08-18 12:54:49.026858: E external/local_xla/xla/stream_executor/cuda/cuda_dnn.cc:9261] Unable to register cuDNN factory: Attempting to register factory for plugin cuDNN when one has already been registered\n",
      "2024-08-18 12:54:49.027024: E external/local_xla/xla/stream_executor/cuda/cuda_fft.cc:607] Unable to register cuFFT factory: Attempting to register factory for plugin cuFFT when one has already been registered\n",
      "2024-08-18 12:54:49.212601: E external/local_xla/xla/stream_executor/cuda/cuda_blas.cc:1515] Unable to register cuBLAS factory: Attempting to register factory for plugin cuBLAS when one has already been registered\n"
     ]
    },
    {
     "name": "stdout",
     "output_type": "stream",
     "text": [
      "Epoch 1/50\n"
     ]
    },
    {
     "name": "stderr",
     "output_type": "stream",
     "text": [
      "/opt/conda/lib/python3.10/site-packages/keras/src/layers/rnn/rnn.py:204: UserWarning: Do not pass an `input_shape`/`input_dim` argument to a layer. When using Sequential models, prefer using an `Input(shape)` object as the first layer in the model instead.\n",
      "  super().__init__(**kwargs)\n"
     ]
    },
    {
     "name": "stdout",
     "output_type": "stream",
     "text": [
      "\u001b[1m72/72\u001b[0m \u001b[32m━━━━━━━━━━━━━━━━━━━━\u001b[0m\u001b[37m\u001b[0m \u001b[1m4s\u001b[0m 3ms/step - loss: 243.8250\n",
      "Epoch 2/50\n",
      "\u001b[1m72/72\u001b[0m \u001b[32m━━━━━━━━━━━━━━━━━━━━\u001b[0m\u001b[37m\u001b[0m \u001b[1m0s\u001b[0m 3ms/step - loss: 133.5134\n",
      "Epoch 3/50\n",
      "\u001b[1m72/72\u001b[0m \u001b[32m━━━━━━━━━━━━━━━━━━━━\u001b[0m\u001b[37m\u001b[0m \u001b[1m0s\u001b[0m 3ms/step - loss: 21.6562\n",
      "Epoch 4/50\n",
      "\u001b[1m72/72\u001b[0m \u001b[32m━━━━━━━━━━━━━━━━━━━━\u001b[0m\u001b[37m\u001b[0m \u001b[1m0s\u001b[0m 3ms/step - loss: 15.5447\n",
      "Epoch 5/50\n",
      "\u001b[1m72/72\u001b[0m \u001b[32m━━━━━━━━━━━━━━━━━━━━\u001b[0m\u001b[37m\u001b[0m \u001b[1m0s\u001b[0m 3ms/step - loss: 15.0323\n",
      "Epoch 6/50\n",
      "\u001b[1m72/72\u001b[0m \u001b[32m━━━━━━━━━━━━━━━━━━━━\u001b[0m\u001b[37m\u001b[0m \u001b[1m0s\u001b[0m 4ms/step - loss: 15.3521\n",
      "Epoch 7/50\n",
      "\u001b[1m72/72\u001b[0m \u001b[32m━━━━━━━━━━━━━━━━━━━━\u001b[0m\u001b[37m\u001b[0m \u001b[1m0s\u001b[0m 3ms/step - loss: 15.6364\n",
      "Epoch 8/50\n",
      "\u001b[1m72/72\u001b[0m \u001b[32m━━━━━━━━━━━━━━━━━━━━\u001b[0m\u001b[37m\u001b[0m \u001b[1m0s\u001b[0m 3ms/step - loss: 14.6376\n",
      "Epoch 9/50\n",
      "\u001b[1m72/72\u001b[0m \u001b[32m━━━━━━━━━━━━━━━━━━━━\u001b[0m\u001b[37m\u001b[0m \u001b[1m0s\u001b[0m 3ms/step - loss: 14.8357\n",
      "Epoch 10/50\n",
      "\u001b[1m72/72\u001b[0m \u001b[32m━━━━━━━━━━━━━━━━━━━━\u001b[0m\u001b[37m\u001b[0m \u001b[1m0s\u001b[0m 3ms/step - loss: 14.7730\n",
      "Epoch 11/50\n",
      "\u001b[1m72/72\u001b[0m \u001b[32m━━━━━━━━━━━━━━━━━━━━\u001b[0m\u001b[37m\u001b[0m \u001b[1m0s\u001b[0m 3ms/step - loss: 13.8284\n",
      "Epoch 12/50\n",
      "\u001b[1m72/72\u001b[0m \u001b[32m━━━━━━━━━━━━━━━━━━━━\u001b[0m\u001b[37m\u001b[0m \u001b[1m0s\u001b[0m 3ms/step - loss: 13.8548\n",
      "Epoch 13/50\n",
      "\u001b[1m72/72\u001b[0m \u001b[32m━━━━━━━━━━━━━━━━━━━━\u001b[0m\u001b[37m\u001b[0m \u001b[1m0s\u001b[0m 3ms/step - loss: 13.8328\n",
      "Epoch 14/50\n",
      "\u001b[1m72/72\u001b[0m \u001b[32m━━━━━━━━━━━━━━━━━━━━\u001b[0m\u001b[37m\u001b[0m \u001b[1m0s\u001b[0m 3ms/step - loss: 14.0906\n",
      "Epoch 15/50\n",
      "\u001b[1m72/72\u001b[0m \u001b[32m━━━━━━━━━━━━━━━━━━━━\u001b[0m\u001b[37m\u001b[0m \u001b[1m0s\u001b[0m 3ms/step - loss: 13.3039\n",
      "Epoch 16/50\n",
      "\u001b[1m72/72\u001b[0m \u001b[32m━━━━━━━━━━━━━━━━━━━━\u001b[0m\u001b[37m\u001b[0m \u001b[1m0s\u001b[0m 3ms/step - loss: 13.9443\n",
      "Epoch 17/50\n",
      "\u001b[1m72/72\u001b[0m \u001b[32m━━━━━━━━━━━━━━━━━━━━\u001b[0m\u001b[37m\u001b[0m \u001b[1m0s\u001b[0m 3ms/step - loss: 13.4290\n",
      "Epoch 18/50\n",
      "\u001b[1m72/72\u001b[0m \u001b[32m━━━━━━━━━━━━━━━━━━━━\u001b[0m\u001b[37m\u001b[0m \u001b[1m0s\u001b[0m 3ms/step - loss: 13.5199\n",
      "Epoch 19/50\n",
      "\u001b[1m72/72\u001b[0m \u001b[32m━━━━━━━━━━━━━━━━━━━━\u001b[0m\u001b[37m\u001b[0m \u001b[1m0s\u001b[0m 3ms/step - loss: 13.3479\n",
      "Epoch 20/50\n",
      "\u001b[1m72/72\u001b[0m \u001b[32m━━━━━━━━━━━━━━━━━━━━\u001b[0m\u001b[37m\u001b[0m \u001b[1m0s\u001b[0m 3ms/step - loss: 13.0516\n",
      "Epoch 21/50\n",
      "\u001b[1m72/72\u001b[0m \u001b[32m━━━━━━━━━━━━━━━━━━━━\u001b[0m\u001b[37m\u001b[0m \u001b[1m0s\u001b[0m 3ms/step - loss: 12.5168\n",
      "Epoch 22/50\n",
      "\u001b[1m72/72\u001b[0m \u001b[32m━━━━━━━━━━━━━━━━━━━━\u001b[0m\u001b[37m\u001b[0m \u001b[1m0s\u001b[0m 3ms/step - loss: 12.3080\n",
      "Epoch 23/50\n",
      "\u001b[1m72/72\u001b[0m \u001b[32m━━━━━━━━━━━━━━━━━━━━\u001b[0m\u001b[37m\u001b[0m \u001b[1m0s\u001b[0m 3ms/step - loss: 11.1658\n",
      "Epoch 24/50\n",
      "\u001b[1m72/72\u001b[0m \u001b[32m━━━━━━━━━━━━━━━━━━━━\u001b[0m\u001b[37m\u001b[0m \u001b[1m0s\u001b[0m 3ms/step - loss: 11.3795\n",
      "Epoch 25/50\n",
      "\u001b[1m72/72\u001b[0m \u001b[32m━━━━━━━━━━━━━━━━━━━━\u001b[0m\u001b[37m\u001b[0m \u001b[1m0s\u001b[0m 3ms/step - loss: 10.9443\n",
      "Epoch 26/50\n",
      "\u001b[1m72/72\u001b[0m \u001b[32m━━━━━━━━━━━━━━━━━━━━\u001b[0m\u001b[37m\u001b[0m \u001b[1m0s\u001b[0m 3ms/step - loss: 9.8365\n",
      "Epoch 27/50\n",
      "\u001b[1m72/72\u001b[0m \u001b[32m━━━━━━━━━━━━━━━━━━━━\u001b[0m\u001b[37m\u001b[0m \u001b[1m0s\u001b[0m 3ms/step - loss: 9.3439\n",
      "Epoch 28/50\n",
      "\u001b[1m72/72\u001b[0m \u001b[32m━━━━━━━━━━━━━━━━━━━━\u001b[0m\u001b[37m\u001b[0m \u001b[1m0s\u001b[0m 3ms/step - loss: 8.4721\n",
      "Epoch 29/50\n",
      "\u001b[1m72/72\u001b[0m \u001b[32m━━━━━━━━━━━━━━━━━━━━\u001b[0m\u001b[37m\u001b[0m \u001b[1m0s\u001b[0m 3ms/step - loss: 8.4354\n",
      "Epoch 30/50\n",
      "\u001b[1m72/72\u001b[0m \u001b[32m━━━━━━━━━━━━━━━━━━━━\u001b[0m\u001b[37m\u001b[0m \u001b[1m0s\u001b[0m 3ms/step - loss: 8.2808\n",
      "Epoch 31/50\n",
      "\u001b[1m72/72\u001b[0m \u001b[32m━━━━━━━━━━━━━━━━━━━━\u001b[0m\u001b[37m\u001b[0m \u001b[1m0s\u001b[0m 3ms/step - loss: 7.7587\n",
      "Epoch 32/50\n",
      "\u001b[1m72/72\u001b[0m \u001b[32m━━━━━━━━━━━━━━━━━━━━\u001b[0m\u001b[37m\u001b[0m \u001b[1m0s\u001b[0m 3ms/step - loss: 7.2575\n",
      "Epoch 33/50\n",
      "\u001b[1m72/72\u001b[0m \u001b[32m━━━━━━━━━━━━━━━━━━━━\u001b[0m\u001b[37m\u001b[0m \u001b[1m0s\u001b[0m 3ms/step - loss: 7.1639\n",
      "Epoch 34/50\n",
      "\u001b[1m72/72\u001b[0m \u001b[32m━━━━━━━━━━━━━━━━━━━━\u001b[0m\u001b[37m\u001b[0m \u001b[1m0s\u001b[0m 3ms/step - loss: 6.8536\n",
      "Epoch 35/50\n",
      "\u001b[1m72/72\u001b[0m \u001b[32m━━━━━━━━━━━━━━━━━━━━\u001b[0m\u001b[37m\u001b[0m \u001b[1m0s\u001b[0m 3ms/step - loss: 7.1057\n",
      "Epoch 36/50\n",
      "\u001b[1m72/72\u001b[0m \u001b[32m━━━━━━━━━━━━━━━━━━━━\u001b[0m\u001b[37m\u001b[0m \u001b[1m0s\u001b[0m 3ms/step - loss: 6.7610\n",
      "Epoch 37/50\n",
      "\u001b[1m72/72\u001b[0m \u001b[32m━━━━━━━━━━━━━━━━━━━━\u001b[0m\u001b[37m\u001b[0m \u001b[1m0s\u001b[0m 3ms/step - loss: 6.9770\n",
      "Epoch 38/50\n",
      "\u001b[1m72/72\u001b[0m \u001b[32m━━━━━━━━━━━━━━━━━━━━\u001b[0m\u001b[37m\u001b[0m \u001b[1m0s\u001b[0m 3ms/step - loss: 6.5092\n",
      "Epoch 39/50\n",
      "\u001b[1m72/72\u001b[0m \u001b[32m━━━━━━━━━━━━━━━━━━━━\u001b[0m\u001b[37m\u001b[0m \u001b[1m0s\u001b[0m 3ms/step - loss: 6.8698\n",
      "Epoch 40/50\n",
      "\u001b[1m72/72\u001b[0m \u001b[32m━━━━━━━━━━━━━━━━━━━━\u001b[0m\u001b[37m\u001b[0m \u001b[1m0s\u001b[0m 3ms/step - loss: 6.8945\n",
      "Epoch 41/50\n",
      "\u001b[1m72/72\u001b[0m \u001b[32m━━━━━━━━━━━━━━━━━━━━\u001b[0m\u001b[37m\u001b[0m \u001b[1m0s\u001b[0m 3ms/step - loss: 6.7839\n",
      "Epoch 42/50\n",
      "\u001b[1m72/72\u001b[0m \u001b[32m━━━━━━━━━━━━━━━━━━━━\u001b[0m\u001b[37m\u001b[0m \u001b[1m0s\u001b[0m 3ms/step - loss: 6.5394\n",
      "Epoch 43/50\n",
      "\u001b[1m72/72\u001b[0m \u001b[32m━━━━━━━━━━━━━━━━━━━━\u001b[0m\u001b[37m\u001b[0m \u001b[1m0s\u001b[0m 3ms/step - loss: 6.7856\n",
      "Epoch 44/50\n",
      "\u001b[1m72/72\u001b[0m \u001b[32m━━━━━━━━━━━━━━━━━━━━\u001b[0m\u001b[37m\u001b[0m \u001b[1m0s\u001b[0m 3ms/step - loss: 6.4707\n",
      "Epoch 45/50\n",
      "\u001b[1m72/72\u001b[0m \u001b[32m━━━━━━━━━━━━━━━━━━━━\u001b[0m\u001b[37m\u001b[0m \u001b[1m0s\u001b[0m 3ms/step - loss: 6.7069\n",
      "Epoch 46/50\n",
      "\u001b[1m72/72\u001b[0m \u001b[32m━━━━━━━━━━━━━━━━━━━━\u001b[0m\u001b[37m\u001b[0m \u001b[1m0s\u001b[0m 3ms/step - loss: 6.4000\n",
      "Epoch 47/50\n",
      "\u001b[1m72/72\u001b[0m \u001b[32m━━━━━━━━━━━━━━━━━━━━\u001b[0m\u001b[37m\u001b[0m \u001b[1m0s\u001b[0m 4ms/step - loss: 6.4340\n",
      "Epoch 48/50\n",
      "\u001b[1m72/72\u001b[0m \u001b[32m━━━━━━━━━━━━━━━━━━━━\u001b[0m\u001b[37m\u001b[0m \u001b[1m0s\u001b[0m 3ms/step - loss: 6.4495\n",
      "Epoch 49/50\n",
      "\u001b[1m72/72\u001b[0m \u001b[32m━━━━━━━━━━━━━━━━━━━━\u001b[0m\u001b[37m\u001b[0m \u001b[1m0s\u001b[0m 3ms/step - loss: 6.2752\n",
      "Epoch 50/50\n",
      "\u001b[1m72/72\u001b[0m \u001b[32m━━━━━━━━━━━━━━━━━━━━\u001b[0m\u001b[37m\u001b[0m \u001b[1m0s\u001b[0m 3ms/step - loss: 6.1686\n",
      "\u001b[1m12/12\u001b[0m \u001b[32m━━━━━━━━━━━━━━━━━━━━\u001b[0m\u001b[37m\u001b[0m \u001b[1m1s\u001b[0m 29ms/step\n",
      "Mean Squared Error: 9.798338028308121\n",
      "Mean Absolute Error (MAE): 2.66536518244558\n",
      "R-squared (R²): -2.1883290724807045\n"
     ]
    },
    {
     "data": {
      "text/html": [
       "<div>\n",
       "<style scoped>\n",
       "    .dataframe tbody tr th:only-of-type {\n",
       "        vertical-align: middle;\n",
       "    }\n",
       "\n",
       "    .dataframe tbody tr th {\n",
       "        vertical-align: top;\n",
       "    }\n",
       "\n",
       "    .dataframe thead th {\n",
       "        text-align: right;\n",
       "    }\n",
       "</style>\n",
       "<table border=\"1\" class=\"dataframe\">\n",
       "  <thead>\n",
       "    <tr style=\"text-align: right;\">\n",
       "      <th></th>\n",
       "      <th>ID</th>\n",
       "      <th>sugar_price</th>\n",
       "    </tr>\n",
       "  </thead>\n",
       "  <tbody>\n",
       "    <tr>\n",
       "      <th>0</th>\n",
       "      <td>1</td>\n",
       "      <td>12.439817</td>\n",
       "    </tr>\n",
       "    <tr>\n",
       "      <th>1</th>\n",
       "      <td>2</td>\n",
       "      <td>12.258369</td>\n",
       "    </tr>\n",
       "    <tr>\n",
       "      <th>2</th>\n",
       "      <td>3</td>\n",
       "      <td>12.332352</td>\n",
       "    </tr>\n",
       "    <tr>\n",
       "      <th>3</th>\n",
       "      <td>4</td>\n",
       "      <td>12.530052</td>\n",
       "    </tr>\n",
       "    <tr>\n",
       "      <th>4</th>\n",
       "      <td>5</td>\n",
       "      <td>12.562972</td>\n",
       "    </tr>\n",
       "    <tr>\n",
       "      <th>...</th>\n",
       "      <td>...</td>\n",
       "      <td>...</td>\n",
       "    </tr>\n",
       "    <tr>\n",
       "      <th>360</th>\n",
       "      <td>361</td>\n",
       "      <td>16.555893</td>\n",
       "    </tr>\n",
       "    <tr>\n",
       "      <th>361</th>\n",
       "      <td>362</td>\n",
       "      <td>16.862286</td>\n",
       "    </tr>\n",
       "    <tr>\n",
       "      <th>362</th>\n",
       "      <td>363</td>\n",
       "      <td>16.679537</td>\n",
       "    </tr>\n",
       "    <tr>\n",
       "      <th>363</th>\n",
       "      <td>364</td>\n",
       "      <td>16.092793</td>\n",
       "    </tr>\n",
       "    <tr>\n",
       "      <th>364</th>\n",
       "      <td>365</td>\n",
       "      <td>16.059937</td>\n",
       "    </tr>\n",
       "  </tbody>\n",
       "</table>\n",
       "<p>365 rows × 2 columns</p>\n",
       "</div>"
      ],
      "text/plain": [
       "      ID  sugar_price\n",
       "0      1    12.439817\n",
       "1      2    12.258369\n",
       "2      3    12.332352\n",
       "3      4    12.530052\n",
       "4      5    12.562972\n",
       "..   ...          ...\n",
       "360  361    16.555893\n",
       "361  362    16.862286\n",
       "362  363    16.679537\n",
       "363  364    16.092793\n",
       "364  365    16.059937\n",
       "\n",
       "[365 rows x 2 columns]"
      ]
     },
     "execution_count": 19,
     "metadata": {},
     "output_type": "execute_result"
    }
   ],
   "source": [
    "# X_train, X_test, y_train, y_test = train_test_split(X, y, test_size=0.2, random_state=42)\n",
    "\n",
    "# แบ่งข้อมูลเป็นชุดฝึกและชุดทดสอบ โดยใช้ข้อมูลล่าสุด 365 ตัวเป็นชุดทดสอบ\n",
    "test_size = 365\n",
    "X_train = X.iloc[:-test_size]\n",
    "y_train = y.iloc[:-test_size]\n",
    "X_test = X.iloc[-test_size:]\n",
    "y_test = y.iloc[-test_size:]\n",
    "\n",
    "\n",
    "\n",
    "\n",
    "\n",
    "X_train = X_train.loc[:,[f'PCA{i+1}' for i in range(n)]]\n",
    "X_test = X_test.loc[:,[f'PCA{i+1}' for i in range(n)]]\n",
    "\n",
    "#ครบ 365 วันแล้ว\n",
    "from sklearn.preprocessing import MinMaxScaler\n",
    "from tensorflow.keras.models import Sequential\n",
    "from tensorflow.keras.layers import Dense, LSTM\n",
    "\n",
    "# Normalize data for LSTM\n",
    "scaler = MinMaxScaler(feature_range=(0, 1))\n",
    "X_train_scaled = scaler.fit_transform(X_train)\n",
    "X_test_scaled = scaler.transform(X_test)\n",
    "\n",
    "# Reshape data to 3D (samples, timesteps, features) for LSTM input\n",
    "X_train_reshaped = np.reshape(X_train_scaled, (X_train_scaled.shape[0], 1, X_train_scaled.shape[1]))\n",
    "X_test_reshaped = np.reshape(X_test_scaled, (X_test_scaled.shape[0], 1, X_test_scaled.shape[1]))\n",
    "\n",
    "# สร้างโมเดล LSTM\n",
    "model = Sequential()\n",
    "model.add(LSTM(units=50, return_sequences=True, input_shape=(X_train_reshaped.shape[1], X_train_reshaped.shape[2])))\n",
    "model.add(LSTM(units=50))\n",
    "model.add(Dense(1))  # Output layer for regression\n",
    "\n",
    "# Compile the model\n",
    "model.compile(optimizer='adam', loss='mean_squared_error')\n",
    "\n",
    "# Train the model\n",
    "model.fit(X_train_reshaped, y_train, epochs=50, batch_size=32, verbose=1)\n",
    "\n",
    "# ทำนายค่าของน้ำตาลในอนาคต (365 วันถัดไป) โดยใช้ X_test แทน X_future\n",
    "y_pred_future = model.predict(X_test_reshaped)\n",
    "\n",
    "# สร้าง DataFrame สำหรับการส่ง\n",
    "sandbox_submission = pd.DataFrame({\n",
    "    'ID': range(1, 366),  # สมมุติว่า ID คือหมายเลขลำดับจาก 1 ถึง 365\n",
    "    'sugar_price': y_pred_future.flatten()  # Flatten the predictions\n",
    "})\n",
    "\n",
    "\n",
    "\n",
    "# for i in range(365):\n",
    "#     print(f\"ID:{sandbox_submission['ID'][i]}\\t price:{sandbox_submission['sugar_price'][i]:.6f}\")\n",
    "\n",
    "\n",
    "# คำนวณ Mean Squared Error\n",
    "mse = mean_squared_error(y_test, y_pred_future)\n",
    "mae = mean_absolute_error(y_test, y_pred_future)\n",
    "r2 = r2_score(y_test, y_pred_future)\n",
    "\n",
    "print(f\"Mean Squared Error: {mse}\")\n",
    "print(f\"Mean Absolute Error (MAE): {mae}\")\n",
    "print(f\"R-squared (R²): {r2}\")\n",
    "sandbox_submission"
   ]
  },
  {
   "cell_type": "markdown",
   "id": "cf374378",
   "metadata": {
    "papermill": {
     "duration": 0.051833,
     "end_time": "2024-08-18T12:55:18.247183",
     "exception": false,
     "start_time": "2024-08-18T12:55:18.195350",
     "status": "completed"
    },
    "tags": []
   },
   "source": [
    "# PCA -> XGBoost ใช้ test เป็น 365 วันล่าสุดเป็นตัวทดสอบและส่ง"
   ]
  },
  {
   "cell_type": "code",
   "execution_count": 20,
   "id": "8f74c905",
   "metadata": {
    "execution": {
     "iopub.execute_input": "2024-08-18T12:55:18.352020Z",
     "iopub.status.busy": "2024-08-18T12:55:18.351279Z",
     "iopub.status.idle": "2024-08-18T12:55:18.358283Z",
     "shell.execute_reply": "2024-08-18T12:55:18.357213Z"
    },
    "papermill": {
     "duration": 0.062398,
     "end_time": "2024-08-18T12:55:18.361023",
     "exception": false,
     "start_time": "2024-08-18T12:55:18.298625",
     "status": "completed"
    },
    "tags": []
   },
   "outputs": [],
   "source": [
    "# # X_train, X_test, y_train, y_test = train_test_split(X, y, test_size=0.2, random_state=42)\n",
    "\n",
    "# # แบ่งข้อมูลเป็นชุดฝึกและชุดทดสอบ โดยใช้ข้อมูลล่าสุด 365 ตัวเป็นชุดทดสอบ\n",
    "# test_size = 365\n",
    "# X_train = X.iloc[:-test_size]\n",
    "# y_train = y.iloc[:-test_size]\n",
    "# X_test = X.iloc[-test_size:]\n",
    "# y_test = y.iloc[-test_size:]\n",
    "\n",
    "\n",
    "\n",
    "\n",
    "\n",
    "# X_train = X_train.loc[:,[f'PCA{i+1}' for i in range(n)]]\n",
    "# X_test = X_test.loc[:,[f'PCA{i+1}' for i in range(n)]]\n",
    "\n",
    "# #ครบ 365 วันแล้ว\n",
    "# #X_test\n",
    "\n",
    "# # สร้าง DMatrix สำหรับ XGBoost\n",
    "# dtrain = xgb.DMatrix(X_train, label=y_train)\n",
    "# dtest = xgb.DMatrix(X_test, label=y_test)\n",
    "\n",
    "# # กำหนด hyperparameters ของโมเดล XGBoost\n",
    "# params = {\n",
    "#     'objective': 'reg:squarederror',  # โจทย์ regression\n",
    "#     'colsample_bytree': 0.3,\n",
    "#     'learning_rate': 0.01,\n",
    "#     'max_depth': 5,\n",
    "#     'alpha': 10\n",
    "# }\n",
    "\n",
    "# # ฝึกโมเดล XGBoost\n",
    "# xg_reg = xgb.train(params=params, dtrain=dtrain, num_boost_round=100)\n",
    "\n",
    "# # ทำการคาดการณ์\n",
    "# y_pred = xg_reg.predict(dtest)\n",
    "\n",
    "# # คำนวณ Mean Square Error\n",
    "# mse = mean_squared_error(y_test, y_pred)\n",
    "# mae = mean_absolute_error(y_test, y_pred)\n",
    "# r2 = r2_score(y_test, y_pred)\n",
    "\n",
    "# print(f\"Mean Squared Error: {mse}\")\n",
    "# print(f\"Mean Absolute Error (MAE): {mae}\")\n",
    "# print(f\"R-squared (R²): {r2}\")\n",
    "\n"
   ]
  },
  {
   "cell_type": "markdown",
   "id": "bfcdb27d",
   "metadata": {
    "papermill": {
     "duration": 0.050802,
     "end_time": "2024-08-18T12:55:18.463659",
     "exception": false,
     "start_time": "2024-08-18T12:55:18.412857",
     "status": "completed"
    },
    "tags": []
   },
   "source": [
    "# PCA -> XGBoost"
   ]
  },
  {
   "cell_type": "code",
   "execution_count": 21,
   "id": "1f9bf40f",
   "metadata": {
    "execution": {
     "iopub.execute_input": "2024-08-18T12:55:18.568275Z",
     "iopub.status.busy": "2024-08-18T12:55:18.567852Z",
     "iopub.status.idle": "2024-08-18T12:55:18.574723Z",
     "shell.execute_reply": "2024-08-18T12:55:18.573513Z"
    },
    "papermill": {
     "duration": 0.061775,
     "end_time": "2024-08-18T12:55:18.577336",
     "exception": false,
     "start_time": "2024-08-18T12:55:18.515561",
     "status": "completed"
    },
    "tags": []
   },
   "outputs": [],
   "source": [
    "# X_train, X_test, y_train, y_test = train_test_split(X, y, test_size=0.2, random_state=42)\n",
    "\n",
    "# X_train = X_train.loc[:,[f'PCA{i+1}' for i in range(n)]]\n",
    "# X_test = X_test.loc[:,[f'PCA{i+1}' for i in range(n)]]\n",
    "\n",
    "\n",
    "\n",
    "\n",
    "# # สร้าง DMatrix สำหรับ XGBoost\n",
    "# dtrain = xgb.DMatrix(X_train, label=y_train)\n",
    "# dtest = xgb.DMatrix(X_test, label=y_test)\n",
    "\n",
    "# # กำหนด hyperparameters ของโมเดล XGBoost\n",
    "# params = {\n",
    "#     'objective': 'reg:squarederror',  # โจทย์ regression\n",
    "#     'colsample_bytree': 0.3,\n",
    "#     'learning_rate': 0.01,\n",
    "#     'max_depth': 5,\n",
    "#     'alpha': 10\n",
    "# }\n",
    "\n",
    "# # ฝึกโมเดล XGBoost\n",
    "# xg_reg = xgb.train(params=params, dtrain=dtrain, num_boost_round=100)\n",
    "\n",
    "# # ทำการคาดการณ์\n",
    "# y_pred = xg_reg.predict(dtest)\n",
    "\n",
    "# # คำนวณ Mean Square Error\n",
    "# mse = mean_squared_error(y_test, y_pred)\n",
    "# mae = mean_absolute_error(y_test, y_pred)\n",
    "# r2 = r2_score(y_test, y_pred)\n",
    "\n",
    "# print(f\"Mean Squared Error: {mse}\")\n",
    "# print(f\"Mean Absolute Error (MAE): {mae}\")\n",
    "# print(f\"R-squared (R²): {r2}\")\n",
    "\n"
   ]
  },
  {
   "cell_type": "markdown",
   "id": "f7de5ade",
   "metadata": {
    "papermill": {
     "duration": 0.05067,
     "end_time": "2024-08-18T12:55:18.681405",
     "exception": false,
     "start_time": "2024-08-18T12:55:18.630735",
     "status": "completed"
    },
    "tags": []
   },
   "source": [
    "# วิธี 1 xgboost เฉยๆ ไม่ลบอะไรเลยนอกจาก column_31"
   ]
  },
  {
   "cell_type": "code",
   "execution_count": 22,
   "id": "1fca5737",
   "metadata": {
    "execution": {
     "iopub.execute_input": "2024-08-18T12:55:18.786825Z",
     "iopub.status.busy": "2024-08-18T12:55:18.786352Z",
     "iopub.status.idle": "2024-08-18T12:55:18.793389Z",
     "shell.execute_reply": "2024-08-18T12:55:18.791857Z"
    },
    "papermill": {
     "duration": 0.063599,
     "end_time": "2024-08-18T12:55:18.796056",
     "exception": false,
     "start_time": "2024-08-18T12:55:18.732457",
     "status": "completed"
    },
    "tags": []
   },
   "outputs": [],
   "source": [
    "\n",
    "# # แบ่งข้อมูลเป็นชุดฝึกและชุดทดสอบ\n",
    "# X_train, X_test, y_train, y_test = train_test_split(X, y, test_size=0.2, random_state=42)\n",
    "\n",
    "\n",
    "# # สร้าง DMatrix สำหรับ XGBoost\n",
    "# dtrain = xgb.DMatrix(X_train, label=y_train)\n",
    "# dtest = xgb.DMatrix(X_test, label=y_test)\n",
    "\n",
    "# # กำหนด hyperparameters ของโมเดล XGBoost\n",
    "# params = {\n",
    "#     'objective': 'reg:squarederror',  # โจทย์ regression\n",
    "#     'colsample_bytree': 0.3,\n",
    "#     'learning_rate': 0.01,\n",
    "#     'max_depth': 5,\n",
    "#     'alpha': 10\n",
    "# }\n",
    "\n",
    "# # ฝึกโมเดล XGBoost\n",
    "# xg_reg = xgb.train(params=params, dtrain=dtrain, num_boost_round=100)\n",
    "\n",
    "# # ทำการคาดการณ์\n",
    "# y_pred = xg_reg.predict(dtest)\n",
    "\n",
    "# # คำนวณ Mean Square Error\n",
    "# mse = mean_squared_error(y_test, y_pred)\n",
    "# mae = mean_absolute_error(y_test, y_pred)\n",
    "# r2 = r2_score(y_test, y_pred)\n",
    "\n",
    "# print(f\"Mean Squared Error: {mse}\")\n",
    "# print(f\"Mean Absolute Error (MAE): {mae}\")\n",
    "# print(f\"R-squared (R²): {r2}\")\n",
    "# #ความแม่นครั้งแรก mse 0.01661695386194144\n",
    "# #ความแม่นยำเมื่อลบ column_31 mse  0.01621892574757115\n"
   ]
  },
  {
   "cell_type": "markdown",
   "id": "d98f7ce4",
   "metadata": {
    "papermill": {
     "duration": 0.050632,
     "end_time": "2024-08-18T12:55:18.897537",
     "exception": false,
     "start_time": "2024-08-18T12:55:18.846905",
     "status": "completed"
    },
    "tags": []
   },
   "source": [
    "# วิธี 2 RandomForestRegressor เลือกฟีเจอร์สำคัญ -> XGBoost"
   ]
  },
  {
   "cell_type": "code",
   "execution_count": 23,
   "id": "b89841bb",
   "metadata": {
    "execution": {
     "iopub.execute_input": "2024-08-18T12:55:19.002206Z",
     "iopub.status.busy": "2024-08-18T12:55:19.001776Z",
     "iopub.status.idle": "2024-08-18T12:55:19.009088Z",
     "shell.execute_reply": "2024-08-18T12:55:19.007961Z"
    },
    "papermill": {
     "duration": 0.062755,
     "end_time": "2024-08-18T12:55:19.011575",
     "exception": false,
     "start_time": "2024-08-18T12:55:18.948820",
     "status": "completed"
    },
    "tags": []
   },
   "outputs": [],
   "source": [
    "\n",
    "# from sklearn.ensemble import RandomForestRegressor\n",
    "# from sklearn.model_selection import train_test_split\n",
    "\n",
    "# # แบ่งข้อมูลเป็นชุดฝึกและชุดทดสอบ\n",
    "# X_train, X_test, y_train, y_test = train_test_split(X, y, test_size=0.2, random_state=42)\n",
    "\n",
    "# # สร้างโมเดล RandomForest สำหรับการเลือกฟีเจอร์\n",
    "# rf = RandomForestRegressor(n_estimators=100, random_state=42)\n",
    "# rf.fit(X_train, y_train)\n",
    "\n",
    "# # ดึงค่าความสำคัญของฟีเจอร์\n",
    "# importances = rf.feature_importances_\n",
    "\n",
    "# # เรียงลำดับฟีเจอร์ตามค่าความสำคัญจากมากไปน้อย\n",
    "# indices = np.argsort(importances)[::-1]\n",
    "\n",
    "# # เลือก 29 ฟีเจอร์ที่สำคัญที่สุด\n",
    "# top_29_indices = indices[:29]\n",
    "# # print(top_29_indices)\n",
    "# X_train_top29 = X_train.iloc[:, top_29_indices]\n",
    "# X_test_top29 = X_test.iloc[:, top_29_indices]\n",
    "\n",
    "# print(\"Top 29 features:\")\n",
    "# for f in range(29):\n",
    "#     print(f\"{f + 1}. feature {X_train.columns[top_29_indices[f]]} ({importances[top_29_indices[f]]:.4f})\")\n",
    "    \n",
    "    \n",
    "\n",
    "    \n",
    "# # สร้าง DMatrix สำหรับ XGBoost\n",
    "# dtrain = xgb.DMatrix(X_train_top29, label=y_train)\n",
    "# dtest = xgb.DMatrix(X_test_top29, label=y_test)\n",
    "\n",
    "# # กำหนด hyperparameters ของโมเดล XGBoost\n",
    "# params = {\n",
    "#     'objective': 'reg:squarederror',  # โจทย์ regression\n",
    "#     'colsample_bytree': 0.3,\n",
    "#     'learning_rate': 0.01,\n",
    "#     'max_depth': 5,\n",
    "#     'alpha': 10\n",
    "# }\n",
    "\n",
    "# # ฝึกโมเดล XGBoost\n",
    "# xg_reg = xgb.train(params=params, dtrain=dtrain, num_boost_round=100)\n",
    "\n",
    "# # ทำการคาดการณ์\n",
    "# y_pred = xg_reg.predict(dtest)\n",
    "\n",
    "# # คำนวณ Mean Squared Error\n",
    "# mse = mean_squared_error(y_test, y_pred)\n",
    "# mae = mean_absolute_error(y_test, y_pred)\n",
    "# r2 = r2_score(y_test, y_pred)\n",
    "\n",
    "# print(f\"Mean Squared Error: {mse}\")\n",
    "# print(f\"Mean Absolute Error (MAE): {mae}\")\n",
    "# print(f\"R-squared (R²): {r2}\")\n",
    "    "
   ]
  },
  {
   "cell_type": "markdown",
   "id": "689525bf",
   "metadata": {
    "papermill": {
     "duration": 0.051065,
     "end_time": "2024-08-18T12:55:19.113659",
     "exception": false,
     "start_time": "2024-08-18T12:55:19.062594",
     "status": "completed"
    },
    "tags": []
   },
   "source": [
    "# หาพารามิเตอร์ที่ดี"
   ]
  },
  {
   "cell_type": "code",
   "execution_count": 24,
   "id": "ce335882",
   "metadata": {
    "execution": {
     "iopub.execute_input": "2024-08-18T12:55:19.218826Z",
     "iopub.status.busy": "2024-08-18T12:55:19.218369Z",
     "iopub.status.idle": "2024-08-18T12:55:19.224662Z",
     "shell.execute_reply": "2024-08-18T12:55:19.223416Z"
    },
    "papermill": {
     "duration": 0.061814,
     "end_time": "2024-08-18T12:55:19.227140",
     "exception": false,
     "start_time": "2024-08-18T12:55:19.165326",
     "status": "completed"
    },
    "tags": []
   },
   "outputs": [],
   "source": [
    "# from sklearn.model_selection import GridSearchCV\n",
    "\n",
    "# # กำหนดพารามิเตอร์ที่ต้องการทดสอบ\n",
    "# param_grid = {\n",
    "#     'max_depth': [3, 5, 7],\n",
    "#     'learning_rate': [0.01, 0.1, 0.2],\n",
    "#     'n_estimators': [50, 100, 200]\n",
    "# }\n",
    "\n",
    "# # สร้างโมเดล XGBoost\n",
    "# xgboost = xgb.XGBRegressor(objective='reg:squarederror')\n",
    "\n",
    "# # ใช้ Grid Search สำหรับค้นหาพารามิเตอร์ที่ดีที่สุด\n",
    "# grid_search = GridSearchCV(estimator=xgboost, param_grid=param_grid, cv=5, scoring='neg_mean_squared_error')\n",
    "# grid_search.fit(X_train_top29, y_train)\n",
    "\n",
    "# print(\"Best parameters:\", grid_search.best_params_)\n",
    "# print(\"Best score:\", grid_search.best_score_)\n",
    "\n",
    "\n",
    "\n",
    "# #Best parameters: {'learning_rate': 0.2, 'max_depth': 3, 'n_estimators': 50}\n",
    "# #Best score: -0.014112323076609617\n",
    "\n",
    "\n",
    "#วิธีนี้ได้ 23 คะแนน"
   ]
  },
  {
   "cell_type": "markdown",
   "id": "bd394a6f",
   "metadata": {
    "papermill": {
     "duration": 0.05096,
     "end_time": "2024-08-18T12:55:19.329950",
     "exception": false,
     "start_time": "2024-08-18T12:55:19.278990",
     "status": "completed"
    },
    "tags": []
   },
   "source": [
    "# กราฟ"
   ]
  },
  {
   "cell_type": "code",
   "execution_count": 25,
   "id": "33ed14c1",
   "metadata": {
    "execution": {
     "iopub.execute_input": "2024-08-18T12:55:19.435951Z",
     "iopub.status.busy": "2024-08-18T12:55:19.435511Z",
     "iopub.status.idle": "2024-08-18T12:55:19.785810Z",
     "shell.execute_reply": "2024-08-18T12:55:19.784428Z"
    },
    "papermill": {
     "duration": 0.406278,
     "end_time": "2024-08-18T12:55:19.788588",
     "exception": false,
     "start_time": "2024-08-18T12:55:19.382310",
     "status": "completed"
    },
    "tags": []
   },
   "outputs": [
    {
     "data": {
      "image/png": "[encoded data removed]",
      "text/plain": [
       "<Figure size 1000x600 with 1 Axes>"
      ]
     },
     "metadata": {},
     "output_type": "display_data"
    }
   ],
   "source": [
    "import matplotlib.pyplot as plt\n",
    "\n",
    "# Scatter Plot ของค่าจริง vs ค่าคาดการณ์\n",
    "plt.figure(figsize=(10, 6))\n",
    "plt.scatter(y_test, y_pred_future, alpha=0.7, edgecolors='w', linewidth=0.5)\n",
    "plt.plot([min(y_test), max(y_test)], [min(y_test), max(y_test)], 'r--', lw=2)\n",
    "plt.xlabel('True Values')\n",
    "plt.ylabel('Predicted Values')\n",
    "plt.title('True Values vs Predicted Values')\n",
    "plt.grid(True)\n",
    "plt.show()\n"
   ]
  },
  {
   "cell_type": "markdown",
   "id": "3d205cb0",
   "metadata": {
    "papermill": {
     "duration": 0.051907,
     "end_time": "2024-08-18T12:55:19.893080",
     "exception": false,
     "start_time": "2024-08-18T12:55:19.841173",
     "status": "completed"
    },
    "tags": []
   },
   "source": [
    "# ทำนาย 1 ปีถัดไป โดยเอาข้อมูลเก่ามาใช้ วิธี PCA เปลี่ยน train test split เป็น 365 วันล่าสุด"
   ]
  },
  {
   "cell_type": "code",
   "execution_count": 26,
   "id": "e397dde7",
   "metadata": {
    "execution": {
     "iopub.execute_input": "2024-08-18T12:55:19.999666Z",
     "iopub.status.busy": "2024-08-18T12:55:19.999193Z",
     "iopub.status.idle": "2024-08-18T12:55:20.005198Z",
     "shell.execute_reply": "2024-08-18T12:55:20.004007Z"
    },
    "papermill": {
     "duration": 0.062112,
     "end_time": "2024-08-18T12:55:20.007736",
     "exception": false,
     "start_time": "2024-08-18T12:55:19.945624",
     "status": "completed"
    },
    "tags": []
   },
   "outputs": [],
   "source": [
    "# X_future = X_test\n",
    "\n",
    "# # สร้าง DMatrix สำหรับการคาดการณ์\n",
    "# d_future = xgb.DMatrix(X_future)\n",
    "\n",
    "# # ทำนายค่าของน้ำตาลในอนาคต\n",
    "# y_pred_future = xg_reg.predict(d_future)\n",
    "\n",
    "# # สร้าง DataFrame สำหรับการส่ง\n",
    "# sandbox_submission = pd.DataFrame({\n",
    "#     'ID': range(1, 366),  # สมมุติว่า ID คือหมายเลขลำดับจาก 1 ถึง 365\n",
    "#     'sugar_price': y_pred_future\n",
    "# })\n",
    "# sandbox_submission\n",
    "\n",
    "# # for i in range(365):\n",
    "# #     print(f\"ID:{sandbox_submission['ID'][i]}\\t price:{sandbox_submission['sugar_price'][i]:.6f}\")"
   ]
  },
  {
   "cell_type": "markdown",
   "id": "4fa04c3d",
   "metadata": {
    "papermill": {
     "duration": 0.052658,
     "end_time": "2024-08-18T12:55:20.112787",
     "exception": false,
     "start_time": "2024-08-18T12:55:20.060129",
     "status": "completed"
    },
    "tags": []
   },
   "source": [
    "# ทำนาย 1 ปีถัดไป โดยเอาข้อมูลเก่ามาใช้ วิธี PCA"
   ]
  },
  {
   "cell_type": "code",
   "execution_count": 27,
   "id": "e078b79c",
   "metadata": {
    "execution": {
     "iopub.execute_input": "2024-08-18T12:55:20.219435Z",
     "iopub.status.busy": "2024-08-18T12:55:20.219036Z",
     "iopub.status.idle": "2024-08-18T12:55:20.225775Z",
     "shell.execute_reply": "2024-08-18T12:55:20.224300Z"
    },
    "papermill": {
     "duration": 0.063116,
     "end_time": "2024-08-18T12:55:20.228438",
     "exception": false,
     "start_time": "2024-08-18T12:55:20.165322",
     "status": "completed"
    },
    "tags": []
   },
   "outputs": [],
   "source": [
    "# X_future = X_test.head(365)  # ใช้ข้อมูล 365 แถวแรกของ X_test\n",
    "\n",
    "# # สร้าง DMatrix สำหรับการคาดการณ์\n",
    "# d_future = xgb.DMatrix(X_future)\n",
    "\n",
    "# # ทำนายค่าของน้ำตาลในอนาคต\n",
    "# y_pred_future = xg_reg.predict(d_future)\n",
    "\n",
    "# # สร้าง DataFrame สำหรับการส่ง\n",
    "# sandbox_submission = pd.DataFrame({\n",
    "#     'ID': range(1, 366),  # สมมุติว่า ID คือหมายเลขลำดับจาก 1 ถึง 365\n",
    "#     'sugar_price': y_pred_future\n",
    "# })\n",
    "# sandbox_submission\n",
    "\n",
    "# # for i in range(365):\n",
    "# #     print(f\"ID:{sandbox_submission['ID'][i]}\\t price:{sandbox_submission['sugar_price'][i]:.6f}\")"
   ]
  },
  {
   "cell_type": "markdown",
   "id": "0970822e",
   "metadata": {
    "papermill": {
     "duration": 0.052831,
     "end_time": "2024-08-18T12:55:20.335879",
     "exception": false,
     "start_time": "2024-08-18T12:55:20.283048",
     "status": "completed"
    },
    "tags": []
   },
   "source": [
    "# ทำนาย 1 ปีถัดไป โดยเอาข้อมูลเก่ามาใช้ วิธี 1"
   ]
  },
  {
   "cell_type": "code",
   "execution_count": 28,
   "id": "96b85e30",
   "metadata": {
    "execution": {
     "iopub.execute_input": "2024-08-18T12:55:20.442617Z",
     "iopub.status.busy": "2024-08-18T12:55:20.442186Z",
     "iopub.status.idle": "2024-08-18T12:55:20.447908Z",
     "shell.execute_reply": "2024-08-18T12:55:20.446742Z"
    },
    "papermill": {
     "duration": 0.062026,
     "end_time": "2024-08-18T12:55:20.450467",
     "exception": false,
     "start_time": "2024-08-18T12:55:20.388441",
     "status": "completed"
    },
    "tags": []
   },
   "outputs": [],
   "source": [
    "# # สมมุติว่าเราใช้ X_test เป็นข้อมูลสำหรับการคาดการณ์\n",
    "# X_future = X_test.head(365)  # ใช้ข้อมูล 365 แถวแรกของ X_test\n",
    "\n",
    "# # สร้าง DMatrix สำหรับการคาดการณ์\n",
    "# d_future = xgb.DMatrix(X_future)\n",
    "\n",
    "# # ทำนายค่าของน้ำตาลในอนาคต\n",
    "# y_pred_future = xg_reg.predict(d_future)\n",
    "\n",
    "# # สร้าง DataFrame สำหรับการส่ง\n",
    "# sandbox_submission = pd.DataFrame({\n",
    "#     'ID': range(1, 366),  # สมมุติว่า ID คือหมายเลขลำดับจาก 1 ถึง 365\n",
    "#     'sugar_price': y_pred_future\n",
    "# })\n",
    "# sandbox_submission"
   ]
  },
  {
   "cell_type": "markdown",
   "id": "c757db41",
   "metadata": {
    "papermill": {
     "duration": 0.059381,
     "end_time": "2024-08-18T12:55:20.562970",
     "exception": false,
     "start_time": "2024-08-18T12:55:20.503589",
     "status": "completed"
    },
    "tags": []
   },
   "source": [
    "# ทำนาย 1 ปีถัดไป โดยเอาข้อมูลเก่ามาใช้ วิธี 2"
   ]
  },
  {
   "cell_type": "code",
   "execution_count": 29,
   "id": "504b2165",
   "metadata": {
    "execution": {
     "iopub.execute_input": "2024-08-18T12:55:20.677923Z",
     "iopub.status.busy": "2024-08-18T12:55:20.677449Z",
     "iopub.status.idle": "2024-08-18T12:55:20.683691Z",
     "shell.execute_reply": "2024-08-18T12:55:20.682494Z"
    },
    "papermill": {
     "duration": 0.063043,
     "end_time": "2024-08-18T12:55:20.686205",
     "exception": false,
     "start_time": "2024-08-18T12:55:20.623162",
     "status": "completed"
    },
    "tags": []
   },
   "outputs": [],
   "source": [
    "# # สมมุติว่าเราใช้ X_test เป็นข้อมูลสำหรับการคาดการณ์\n",
    "# X_future = X_test.head(365)  # ใช้ข้อมูล 365 แถวแรกของ X_test\n",
    "\n",
    "# # เลือกเฉพาะฟีเจอร์ที่สำคัญ 29 อันดับแรกจาก X_future\n",
    "# X_future_top29 = X_future.iloc[:, top_29_indices]\n",
    "\n",
    "# # สร้าง DMatrix สำหรับการคาดการณ์\n",
    "# d_future = xgb.DMatrix(X_future_top29)\n",
    "\n",
    "# # ทำนายค่าของน้ำตาลในอนาคต\n",
    "# y_pred_future = xg_reg.predict(d_future)\n",
    "\n",
    "# # สร้าง DataFrame สำหรับการส่ง\n",
    "# sandbox_submission = pd.DataFrame({\n",
    "#     'ID': range(1, 366),  # สมมุติว่า ID คือหมายเลขลำดับจาก 1 ถึง 365\n",
    "#     'sugar_price': y_pred_future\n",
    "# })\n",
    "\n",
    "# # sandbox_submission\n",
    "\n",
    "# for i in range(50):\n",
    "#     print(f\"ID:{sandbox_submission['ID'][i]}\\t price:{sandbox_submission['sugar_price'][i]:.6f}\")"
   ]
  },
  {
   "cell_type": "markdown",
   "id": "f5bcec8e",
   "metadata": {
    "papermill": {
     "duration": 0.060439,
     "end_time": "2024-08-18T12:55:20.799499",
     "exception": false,
     "start_time": "2024-08-18T12:55:20.739060",
     "status": "completed"
    },
    "tags": []
   },
   "source": [
    "# ส่ง"
   ]
  },
  {
   "cell_type": "code",
   "execution_count": 30,
   "id": "2f1500d8",
   "metadata": {
    "execution": {
     "iopub.execute_input": "2024-08-18T12:55:20.908919Z",
     "iopub.status.busy": "2024-08-18T12:55:20.908478Z",
     "iopub.status.idle": "2024-08-18T12:55:20.920930Z",
     "shell.execute_reply": "2024-08-18T12:55:20.919469Z"
    },
    "papermill": {
     "duration": 0.069793,
     "end_time": "2024-08-18T12:55:20.923488",
     "exception": false,
     "start_time": "2024-08-18T12:55:20.853695",
     "status": "completed"
    },
    "tags": []
   },
   "outputs": [
    {
     "name": "stdout",
     "output_type": "stream",
     "text": [
      "['submission.csv', '__notebook__.ipynb']\n",
      "done!!!!!!!!!!!!!!!!!!!!!\n"
     ]
    }
   ],
   "source": [
    "sandbox_submission.to_csv('submission.csv', index=False)\n",
    "\n",
    "import os\n",
    "\n",
    "# แสดงไฟล์ใน working directory ของ Kaggle\n",
    "print(os.listdir('/kaggle/working'))\n",
    "print('done!!!!!!!!!!!!!!!!!!!!!')"
   ]
  }
 ],
 "metadata": {
  "kaggle": {
   "accelerator": "none",
   "dataSources": [
    {
     "databundleVersionId": 9372120,
     "sourceId": 84005,
     "sourceType": "competition"
    }
   ],
   "dockerImageVersionId": 30746,
   "isGpuEnabled": false,
   "isInternetEnabled": true,
   "language": "python",
   "sourceType": "notebook"
  },
  "kernelspec": {
   "display_name": "Python 3",
   "language": "python",
   "name": "python3"
  },
  "language_info": {
   "codemirror_mode": {
    "name": "ipython",
    "version": 3
   },
   "file_extension": ".py",
   "mimetype": "text/x-python",
   "name": "python",
   "nbconvert_exporter": "python",
   "pygments_lexer": "ipython3",
   "version": "3.10.13"
  },
  "papermill": {
   "default_parameters": {},
   "duration": 46.195596,
   "end_time": "2024-08-18T12:55:23.584675",
   "environment_variables": {},
   "exception": null,
   "input_path": "__notebook__.ipynb",
   "output_path": "__notebook__.ipynb",
   "parameters": {},
   "start_time": "2024-08-18T12:54:37.389079",
   "version": "2.5.0"
  }
 },
 "nbformat": 4,
 "nbformat_minor": 5
}
